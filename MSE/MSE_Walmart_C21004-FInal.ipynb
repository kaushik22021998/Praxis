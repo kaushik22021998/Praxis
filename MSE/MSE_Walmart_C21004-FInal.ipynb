{
 "cells": [
  {
   "cell_type": "markdown",
   "metadata": {
    "slideshow": {
     "slide_type": "slide"
    }
   },
   "source": [
    "## Walmart Sales Data"
   ]
  },
  {
   "cell_type": "markdown",
   "metadata": {
    "slideshow": {
     "slide_type": "notes"
    }
   },
   "source": [
    "One of the leading retail stores in the US, Walmart, would like to predict the sales accurately. There are certain events and holidays which impact sales on each day. There are sales data available for 45 stores of Walmart. The business is facing a challenge due to unforeseen demands and runs out of stock some times, due to the inappropriate machine learning algorithm. An ideal ML algorithm will predict sales like economic conditions including CPI, Unemployment Index, etc. Walmart runs several promotional markdown events throughout the year. These markdowns precede prominent holidays, the four largest of all, which are the Super Bowl, Labour Day, Thanksgiving, and Christmas. The weeks including these holidays are weighted five times higher in the evaluation than non-holiday weeks. Part of the challenge presented by this competition is modeling the effects of markdowns on these holiday weeks in the absence of complete/ideal historical data. Historical sales data for 45 Walmart stores located in different regions are available."
   ]
  },
  {
   "cell_type": "code",
   "execution_count": 1,
   "metadata": {},
   "outputs": [],
   "source": [
    "import pandas as pd\n",
    "import numpy as np\n",
    "import matplotlib.pyplot as plt\n",
    "import seaborn as sns"
   ]
  },
  {
   "cell_type": "code",
   "execution_count": 4,
   "metadata": {},
   "outputs": [],
   "source": [
    "df_walmart=pd.read_csv(\"C:/Users/swaminathan/Desktop/Project DataSets/EDA/MSE/Walmart_Store_sales.csv\")"
   ]
  },
  {
   "cell_type": "code",
   "execution_count": 5,
   "metadata": {
    "scrolled": true
   },
   "outputs": [
    {
     "data": {
      "text/html": [
       "<div>\n",
       "<style scoped>\n",
       "    .dataframe tbody tr th:only-of-type {\n",
       "        vertical-align: middle;\n",
       "    }\n",
       "\n",
       "    .dataframe tbody tr th {\n",
       "        vertical-align: top;\n",
       "    }\n",
       "\n",
       "    .dataframe thead th {\n",
       "        text-align: right;\n",
       "    }\n",
       "</style>\n",
       "<table border=\"1\" class=\"dataframe\">\n",
       "  <thead>\n",
       "    <tr style=\"text-align: right;\">\n",
       "      <th></th>\n",
       "      <th>Store</th>\n",
       "      <th>Date</th>\n",
       "      <th>Weekly_Sales</th>\n",
       "      <th>Holiday_Flag</th>\n",
       "      <th>Temperature</th>\n",
       "      <th>Fuel_Price</th>\n",
       "      <th>CPI</th>\n",
       "      <th>Unemployment</th>\n",
       "    </tr>\n",
       "  </thead>\n",
       "  <tbody>\n",
       "    <tr>\n",
       "      <th>0</th>\n",
       "      <td>1</td>\n",
       "      <td>05-02-2010</td>\n",
       "      <td>1643690.90</td>\n",
       "      <td>0</td>\n",
       "      <td>42.31</td>\n",
       "      <td>2.572</td>\n",
       "      <td>211.096358</td>\n",
       "      <td>8.106</td>\n",
       "    </tr>\n",
       "    <tr>\n",
       "      <th>1</th>\n",
       "      <td>1</td>\n",
       "      <td>12-02-2010</td>\n",
       "      <td>1641957.44</td>\n",
       "      <td>1</td>\n",
       "      <td>38.51</td>\n",
       "      <td>2.548</td>\n",
       "      <td>211.242170</td>\n",
       "      <td>8.106</td>\n",
       "    </tr>\n",
       "    <tr>\n",
       "      <th>2</th>\n",
       "      <td>1</td>\n",
       "      <td>19-02-2010</td>\n",
       "      <td>1611968.17</td>\n",
       "      <td>0</td>\n",
       "      <td>39.93</td>\n",
       "      <td>2.514</td>\n",
       "      <td>211.289143</td>\n",
       "      <td>8.106</td>\n",
       "    </tr>\n",
       "    <tr>\n",
       "      <th>3</th>\n",
       "      <td>1</td>\n",
       "      <td>26-02-2010</td>\n",
       "      <td>1409727.59</td>\n",
       "      <td>0</td>\n",
       "      <td>46.63</td>\n",
       "      <td>2.561</td>\n",
       "      <td>211.319643</td>\n",
       "      <td>8.106</td>\n",
       "    </tr>\n",
       "    <tr>\n",
       "      <th>4</th>\n",
       "      <td>1</td>\n",
       "      <td>05-03-2010</td>\n",
       "      <td>1554806.68</td>\n",
       "      <td>0</td>\n",
       "      <td>46.50</td>\n",
       "      <td>2.625</td>\n",
       "      <td>211.350143</td>\n",
       "      <td>8.106</td>\n",
       "    </tr>\n",
       "  </tbody>\n",
       "</table>\n",
       "</div>"
      ],
      "text/plain": [
       "   Store        Date  Weekly_Sales  Holiday_Flag  Temperature  Fuel_Price  \\\n",
       "0      1  05-02-2010    1643690.90             0        42.31       2.572   \n",
       "1      1  12-02-2010    1641957.44             1        38.51       2.548   \n",
       "2      1  19-02-2010    1611968.17             0        39.93       2.514   \n",
       "3      1  26-02-2010    1409727.59             0        46.63       2.561   \n",
       "4      1  05-03-2010    1554806.68             0        46.50       2.625   \n",
       "\n",
       "          CPI  Unemployment  \n",
       "0  211.096358         8.106  \n",
       "1  211.242170         8.106  \n",
       "2  211.289143         8.106  \n",
       "3  211.319643         8.106  \n",
       "4  211.350143         8.106  "
      ]
     },
     "execution_count": 5,
     "metadata": {},
     "output_type": "execute_result"
    }
   ],
   "source": [
    "df_walmart.head()"
   ]
  },
  {
   "cell_type": "markdown",
   "metadata": {},
   "source": [
    "Objectives of the Project \n",
    "\n",
    "To Observe an predict the sales of the given stores with the Parameters like <br>\n",
    "Holiday_Flag <br>\n",
    "Temperature  <br>\n",
    "Fuel_Price <br>\n",
    "CPI <br>\n",
    "Unemplyement <br>"
   ]
  },
  {
   "cell_type": "code",
   "execution_count": 6,
   "metadata": {},
   "outputs": [
    {
     "data": {
      "text/html": [
       "<div>\n",
       "<style scoped>\n",
       "    .dataframe tbody tr th:only-of-type {\n",
       "        vertical-align: middle;\n",
       "    }\n",
       "\n",
       "    .dataframe tbody tr th {\n",
       "        vertical-align: top;\n",
       "    }\n",
       "\n",
       "    .dataframe thead th {\n",
       "        text-align: right;\n",
       "    }\n",
       "</style>\n",
       "<table border=\"1\" class=\"dataframe\">\n",
       "  <thead>\n",
       "    <tr style=\"text-align: right;\">\n",
       "      <th></th>\n",
       "      <th>Store</th>\n",
       "      <th>Weekly_Sales</th>\n",
       "      <th>Holiday_Flag</th>\n",
       "      <th>Temperature</th>\n",
       "      <th>Fuel_Price</th>\n",
       "      <th>CPI</th>\n",
       "      <th>Unemployment</th>\n",
       "    </tr>\n",
       "  </thead>\n",
       "  <tbody>\n",
       "    <tr>\n",
       "      <th>count</th>\n",
       "      <td>6435.000000</td>\n",
       "      <td>6.435000e+03</td>\n",
       "      <td>6435.000000</td>\n",
       "      <td>6435.000000</td>\n",
       "      <td>6435.000000</td>\n",
       "      <td>6435.000000</td>\n",
       "      <td>6435.000000</td>\n",
       "    </tr>\n",
       "    <tr>\n",
       "      <th>mean</th>\n",
       "      <td>23.000000</td>\n",
       "      <td>1.046965e+06</td>\n",
       "      <td>0.069930</td>\n",
       "      <td>60.663782</td>\n",
       "      <td>3.358607</td>\n",
       "      <td>171.578394</td>\n",
       "      <td>7.999151</td>\n",
       "    </tr>\n",
       "    <tr>\n",
       "      <th>std</th>\n",
       "      <td>12.988182</td>\n",
       "      <td>5.643666e+05</td>\n",
       "      <td>0.255049</td>\n",
       "      <td>18.444933</td>\n",
       "      <td>0.459020</td>\n",
       "      <td>39.356712</td>\n",
       "      <td>1.875885</td>\n",
       "    </tr>\n",
       "    <tr>\n",
       "      <th>min</th>\n",
       "      <td>1.000000</td>\n",
       "      <td>2.099862e+05</td>\n",
       "      <td>0.000000</td>\n",
       "      <td>-2.060000</td>\n",
       "      <td>2.472000</td>\n",
       "      <td>126.064000</td>\n",
       "      <td>3.879000</td>\n",
       "    </tr>\n",
       "    <tr>\n",
       "      <th>25%</th>\n",
       "      <td>12.000000</td>\n",
       "      <td>5.533501e+05</td>\n",
       "      <td>0.000000</td>\n",
       "      <td>47.460000</td>\n",
       "      <td>2.933000</td>\n",
       "      <td>131.735000</td>\n",
       "      <td>6.891000</td>\n",
       "    </tr>\n",
       "    <tr>\n",
       "      <th>50%</th>\n",
       "      <td>23.000000</td>\n",
       "      <td>9.607460e+05</td>\n",
       "      <td>0.000000</td>\n",
       "      <td>62.670000</td>\n",
       "      <td>3.445000</td>\n",
       "      <td>182.616521</td>\n",
       "      <td>7.874000</td>\n",
       "    </tr>\n",
       "    <tr>\n",
       "      <th>75%</th>\n",
       "      <td>34.000000</td>\n",
       "      <td>1.420159e+06</td>\n",
       "      <td>0.000000</td>\n",
       "      <td>74.940000</td>\n",
       "      <td>3.735000</td>\n",
       "      <td>212.743293</td>\n",
       "      <td>8.622000</td>\n",
       "    </tr>\n",
       "    <tr>\n",
       "      <th>max</th>\n",
       "      <td>45.000000</td>\n",
       "      <td>3.818686e+06</td>\n",
       "      <td>1.000000</td>\n",
       "      <td>100.140000</td>\n",
       "      <td>4.468000</td>\n",
       "      <td>227.232807</td>\n",
       "      <td>14.313000</td>\n",
       "    </tr>\n",
       "  </tbody>\n",
       "</table>\n",
       "</div>"
      ],
      "text/plain": [
       "             Store  Weekly_Sales  Holiday_Flag  Temperature   Fuel_Price  \\\n",
       "count  6435.000000  6.435000e+03   6435.000000  6435.000000  6435.000000   \n",
       "mean     23.000000  1.046965e+06      0.069930    60.663782     3.358607   \n",
       "std      12.988182  5.643666e+05      0.255049    18.444933     0.459020   \n",
       "min       1.000000  2.099862e+05      0.000000    -2.060000     2.472000   \n",
       "25%      12.000000  5.533501e+05      0.000000    47.460000     2.933000   \n",
       "50%      23.000000  9.607460e+05      0.000000    62.670000     3.445000   \n",
       "75%      34.000000  1.420159e+06      0.000000    74.940000     3.735000   \n",
       "max      45.000000  3.818686e+06      1.000000   100.140000     4.468000   \n",
       "\n",
       "               CPI  Unemployment  \n",
       "count  6435.000000   6435.000000  \n",
       "mean    171.578394      7.999151  \n",
       "std      39.356712      1.875885  \n",
       "min     126.064000      3.879000  \n",
       "25%     131.735000      6.891000  \n",
       "50%     182.616521      7.874000  \n",
       "75%     212.743293      8.622000  \n",
       "max     227.232807     14.313000  "
      ]
     },
     "execution_count": 6,
     "metadata": {},
     "output_type": "execute_result"
    }
   ],
   "source": [
    "df_walmart.describe()"
   ]
  },
  {
   "cell_type": "code",
   "execution_count": 7,
   "metadata": {},
   "outputs": [
    {
     "name": "stdout",
     "output_type": "stream",
     "text": [
      "<class 'pandas.core.frame.DataFrame'>\n",
      "RangeIndex: 6435 entries, 0 to 6434\n",
      "Data columns (total 8 columns):\n",
      " #   Column        Non-Null Count  Dtype  \n",
      "---  ------        --------------  -----  \n",
      " 0   Store         6435 non-null   int64  \n",
      " 1   Date          6435 non-null   object \n",
      " 2   Weekly_Sales  6435 non-null   float64\n",
      " 3   Holiday_Flag  6435 non-null   int64  \n",
      " 4   Temperature   6435 non-null   float64\n",
      " 5   Fuel_Price    6435 non-null   float64\n",
      " 6   CPI           6435 non-null   float64\n",
      " 7   Unemployment  6435 non-null   float64\n",
      "dtypes: float64(5), int64(2), object(1)\n",
      "memory usage: 402.3+ KB\n"
     ]
    }
   ],
   "source": [
    "df_walmart.info()"
   ]
  },
  {
   "cell_type": "code",
   "execution_count": 8,
   "metadata": {},
   "outputs": [
    {
     "data": {
      "text/plain": [
       "['Store',\n",
       " 'Date',\n",
       " 'Weekly_Sales',\n",
       " 'Holiday_Flag',\n",
       " 'Temperature',\n",
       " 'Fuel_Price',\n",
       " 'CPI',\n",
       " 'Unemployment']"
      ]
     },
     "execution_count": 8,
     "metadata": {},
     "output_type": "execute_result"
    }
   ],
   "source": [
    "list(df_walmart.columns)"
   ]
  },
  {
   "cell_type": "code",
   "execution_count": 9,
   "metadata": {},
   "outputs": [
    {
     "data": {
      "text/plain": [
       "<matplotlib.collections.PathCollection at 0x1d93bedd760>"
      ]
     },
     "execution_count": 9,
     "metadata": {},
     "output_type": "execute_result"
    },
    {
     "data": {
      "image/png": "[encoded data removed]",
      "text/plain": [
       "<Figure size 432x288 with 4 Axes>"
      ]
     },
     "metadata": {
      "needs_background": "light"
     },
     "output_type": "display_data"
    }
   ],
   "source": [
    "figure,axis=plt.subplots(2,2)\n",
    "axis[0,0].scatter(df_walmart['Weekly_Sales'],df_walmart['Temperature'])    \n",
    "axis[0][1].scatter(df_walmart['Weekly_Sales'],df_walmart['CPI']) \n",
    "axis[1][0].scatter(df_walmart['Unemployment'],df_walmart['Weekly_Sales']) \n",
    "axis[1][1].scatter(df_walmart['Fuel_Price'],df_walmart['Weekly_Sales']) "
   ]
  },
  {
   "cell_type": "code",
   "execution_count": 10,
   "metadata": {},
   "outputs": [
    {
     "data": {
      "text/plain": [
       "3818686.45"
      ]
     },
     "execution_count": 10,
     "metadata": {},
     "output_type": "execute_result"
    }
   ],
   "source": [
    "df_walmart['Weekly_Sales'].max()"
   ]
  },
  {
   "cell_type": "markdown",
   "metadata": {},
   "source": [
    "### The Maximum weekly Sales by a Store was for $3818686.45"
   ]
  },
  {
   "cell_type": "code",
   "execution_count": 11,
   "metadata": {},
   "outputs": [
    {
     "name": "stdout",
     "output_type": "stream",
     "text": [
      "The Store with Highest weekly sales among all 45 Stores is 14\n",
      "The Store with Highest weekly sales among all 45 Stores is 24-12-2010\n"
     ]
    }
   ],
   "source": [
    "print(\"The Store with Highest weekly sales among all 45 Stores is\",df_walmart[df_walmart['Weekly_Sales']==3818686.45].Store.item())\n",
    "print(\"The Store with Highest weekly sales among all 45 Stores is\",df_walmart[df_walmart['Weekly_Sales']==3818686.45].Date.item())"
   ]
  },
  {
   "cell_type": "markdown",
   "metadata": {},
   "source": [
    "### The Maximum Weekly Sales was made by Store 14 on 24-12-2010(Thanks Giving Week)"
   ]
  },
  {
   "cell_type": "code",
   "execution_count": 12,
   "metadata": {
    "scrolled": true
   },
   "outputs": [
    {
     "data": {
      "text/plain": [
       "209986.25"
      ]
     },
     "execution_count": 12,
     "metadata": {},
     "output_type": "execute_result"
    }
   ],
   "source": [
    "df_walmart['Weekly_Sales'].min()"
   ]
  },
  {
   "cell_type": "markdown",
   "metadata": {},
   "source": [
    "### The Minimum weekly Sales by a Store was for $209986.25"
   ]
  },
  {
   "cell_type": "code",
   "execution_count": 13,
   "metadata": {
    "scrolled": true
   },
   "outputs": [
    {
     "name": "stdout",
     "output_type": "stream",
     "text": [
      "The Store with lowest weekly sales among all 45 Stores is 33\n",
      "The Store with lowest weekly sales among all 45 Stores is 03-12-2010\n"
     ]
    }
   ],
   "source": [
    "print(\"The Store with lowest weekly sales among all 45 Stores is\",df_walmart[df_walmart['Weekly_Sales']==209986.25].Store.item())\n",
    "print(\"The Store with lowest weekly sales among all 45 Stores is\",df_walmart[df_walmart['Weekly_Sales']==209986.25].Date.item())"
   ]
  },
  {
   "cell_type": "markdown",
   "metadata": {},
   "source": [
    "### The Minimum Weekly Sales was made by Store 33 on 03-12-2010"
   ]
  },
  {
   "cell_type": "code",
   "execution_count": 14,
   "metadata": {},
   "outputs": [],
   "source": [
    "hoolidayFlag_Date_Analysis=[]\n",
    "for i in list(df_walmart['Store'].unique()):\n",
    "    maxsales=df_walmart[df_walmart['Store']==i]['Weekly_Sales'].max()\n",
    "    maxsalesdate=df_walmart[df_walmart['Weekly_Sales']==maxsales].Date.item()\n",
    "    maxsalesflaf=df_walmart[df_walmart['Weekly_Sales']==maxsales].Holiday_Flag.item()\n",
    "    hoolidayFlag_Date_Analysis.append([maxsalesdate,maxsalesflaf])"
   ]
  },
  {
   "cell_type": "code",
   "execution_count": 15,
   "metadata": {},
   "outputs": [
    {
     "name": "stdout",
     "output_type": "stream",
     "text": [
      "The Number of Stores which had maximum sales in non holiday week is 42\n",
      "The Number of Stores which had maximum sales in holiday week is 3\n"
     ]
    }
   ],
   "source": [
    "holidayweek=0\n",
    "nonhoildayweek=0\n",
    "for i in range(len(hoolidayFlag_Date_Analysis)):\n",
    "    if(hoolidayFlag_Date_Analysis[i][1]==1):\n",
    "        holidayweek+=1\n",
    "    else:\n",
    "        nonhoildayweek+=1\n",
    "print(\"The Number of Stores which had maximum sales in non holiday week is\",nonhoildayweek)\n",
    "print(\"The Number of Stores which had maximum sales in holiday week is\",holidayweek)    "
   ]
  },
  {
   "cell_type": "markdown",
   "metadata": {},
   "source": [
    "### The Number of Stores which had maximum sales in non holiday week is 42\n",
    "### Number of Stores which had maximum sales in holiday week is 3"
   ]
  },
  {
   "cell_type": "code",
   "execution_count": 16,
   "metadata": {},
   "outputs": [],
   "source": [
    "#Seperating Day Month and Year from Date for Hypothesis Testing\n",
    "df_walmart['year'] = pd.DatetimeIndex(df_walmart['Date']).year\n",
    "df_walmart['month'] = pd.DatetimeIndex(df_walmart['Date']).month\n",
    "df_walmart['Day']= pd.DatetimeIndex(df_walmart['Date']).day"
   ]
  },
  {
   "cell_type": "code",
   "execution_count": 17,
   "metadata": {
    "scrolled": false
   },
   "outputs": [
    {
     "data": {
      "text/plain": [
       "<BarContainer object of 6435 artists>"
      ]
     },
     "execution_count": 17,
     "metadata": {},
     "output_type": "execute_result"
    },
    {
     "data": {
      "image/png": "[encoded data removed]",
      "text/plain": [
       "<Figure size 432x288 with 1 Axes>"
      ]
     },
     "metadata": {
      "needs_background": "light"
     },
     "output_type": "display_data"
    }
   ],
   "source": [
    "plt.bar(df_walmart['year'].astype(str),df_walmart['CPI'])"
   ]
  },
  {
   "cell_type": "markdown",
   "metadata": {},
   "source": [
    "## HYPOTHESIS TESTING 1"
   ]
  },
  {
   "cell_type": "markdown",
   "metadata": {},
   "source": [
    "#### NULL HYPOTHESIS : SALES IN NON HOLDAY WEEK IS LESS OR EQUAL COMPARED TO HOLDAY WEEK\n"
   ]
  },
  {
   "cell_type": "markdown",
   "metadata": {},
   "source": [
    "#### ALTERNATE HYPOTHESIS : SALES IN NON HOLDAY WEEK IS GREATER THAN HOLDAY WEEK"
   ]
  },
  {
   "cell_type": "code",
   "execution_count": 18,
   "metadata": {},
   "outputs": [],
   "source": [
    "df_walmart_holiday=df_walmart[df_walmart['Holiday_Flag']==1] \n",
    "#Filter Weeks which had Holiday"
   ]
  },
  {
   "cell_type": "code",
   "execution_count": 19,
   "metadata": {},
   "outputs": [
    {
     "data": {
      "text/html": [
       "<div>\n",
       "<style scoped>\n",
       "    .dataframe tbody tr th:only-of-type {\n",
       "        vertical-align: middle;\n",
       "    }\n",
       "\n",
       "    .dataframe tbody tr th {\n",
       "        vertical-align: top;\n",
       "    }\n",
       "\n",
       "    .dataframe thead th {\n",
       "        text-align: right;\n",
       "    }\n",
       "</style>\n",
       "<table border=\"1\" class=\"dataframe\">\n",
       "  <thead>\n",
       "    <tr style=\"text-align: right;\">\n",
       "      <th></th>\n",
       "      <th>Store</th>\n",
       "      <th>Date</th>\n",
       "      <th>Weekly_Sales</th>\n",
       "      <th>Holiday_Flag</th>\n",
       "      <th>Temperature</th>\n",
       "      <th>Fuel_Price</th>\n",
       "      <th>CPI</th>\n",
       "      <th>Unemployment</th>\n",
       "      <th>year</th>\n",
       "      <th>month</th>\n",
       "      <th>Day</th>\n",
       "    </tr>\n",
       "  </thead>\n",
       "  <tbody>\n",
       "    <tr>\n",
       "      <th>1</th>\n",
       "      <td>1</td>\n",
       "      <td>12-02-2010</td>\n",
       "      <td>1641957.44</td>\n",
       "      <td>1</td>\n",
       "      <td>38.51</td>\n",
       "      <td>2.548</td>\n",
       "      <td>211.242170</td>\n",
       "      <td>8.106</td>\n",
       "      <td>2010</td>\n",
       "      <td>12</td>\n",
       "      <td>2</td>\n",
       "    </tr>\n",
       "    <tr>\n",
       "      <th>31</th>\n",
       "      <td>1</td>\n",
       "      <td>10-09-2010</td>\n",
       "      <td>1507460.69</td>\n",
       "      <td>1</td>\n",
       "      <td>78.69</td>\n",
       "      <td>2.565</td>\n",
       "      <td>211.495190</td>\n",
       "      <td>7.787</td>\n",
       "      <td>2010</td>\n",
       "      <td>10</td>\n",
       "      <td>9</td>\n",
       "    </tr>\n",
       "    <tr>\n",
       "      <th>42</th>\n",
       "      <td>1</td>\n",
       "      <td>26-11-2010</td>\n",
       "      <td>1955624.11</td>\n",
       "      <td>1</td>\n",
       "      <td>64.52</td>\n",
       "      <td>2.735</td>\n",
       "      <td>211.748433</td>\n",
       "      <td>7.838</td>\n",
       "      <td>2010</td>\n",
       "      <td>11</td>\n",
       "      <td>26</td>\n",
       "    </tr>\n",
       "    <tr>\n",
       "      <th>47</th>\n",
       "      <td>1</td>\n",
       "      <td>31-12-2010</td>\n",
       "      <td>1367320.01</td>\n",
       "      <td>1</td>\n",
       "      <td>48.43</td>\n",
       "      <td>2.943</td>\n",
       "      <td>211.404932</td>\n",
       "      <td>7.838</td>\n",
       "      <td>2010</td>\n",
       "      <td>12</td>\n",
       "      <td>31</td>\n",
       "    </tr>\n",
       "    <tr>\n",
       "      <th>53</th>\n",
       "      <td>1</td>\n",
       "      <td>11-02-2011</td>\n",
       "      <td>1649614.93</td>\n",
       "      <td>1</td>\n",
       "      <td>36.39</td>\n",
       "      <td>3.022</td>\n",
       "      <td>212.936705</td>\n",
       "      <td>7.742</td>\n",
       "      <td>2011</td>\n",
       "      <td>11</td>\n",
       "      <td>2</td>\n",
       "    </tr>\n",
       "  </tbody>\n",
       "</table>\n",
       "</div>"
      ],
      "text/plain": [
       "    Store        Date  Weekly_Sales  Holiday_Flag  Temperature  Fuel_Price  \\\n",
       "1       1  12-02-2010    1641957.44             1        38.51       2.548   \n",
       "31      1  10-09-2010    1507460.69             1        78.69       2.565   \n",
       "42      1  26-11-2010    1955624.11             1        64.52       2.735   \n",
       "47      1  31-12-2010    1367320.01             1        48.43       2.943   \n",
       "53      1  11-02-2011    1649614.93             1        36.39       3.022   \n",
       "\n",
       "           CPI  Unemployment  year  month  Day  \n",
       "1   211.242170         8.106  2010     12    2  \n",
       "31  211.495190         7.787  2010     10    9  \n",
       "42  211.748433         7.838  2010     11   26  \n",
       "47  211.404932         7.838  2010     12   31  \n",
       "53  212.936705         7.742  2011     11    2  "
      ]
     },
     "execution_count": 19,
     "metadata": {},
     "output_type": "execute_result"
    }
   ],
   "source": [
    "df_walmart_holiday.head()"
   ]
  },
  {
   "cell_type": "code",
   "execution_count": 20,
   "metadata": {},
   "outputs": [
    {
     "data": {
      "text/html": [
       "<div>\n",
       "<style scoped>\n",
       "    .dataframe tbody tr th:only-of-type {\n",
       "        vertical-align: middle;\n",
       "    }\n",
       "\n",
       "    .dataframe tbody tr th {\n",
       "        vertical-align: top;\n",
       "    }\n",
       "\n",
       "    .dataframe thead th {\n",
       "        text-align: right;\n",
       "    }\n",
       "</style>\n",
       "<table border=\"1\" class=\"dataframe\">\n",
       "  <thead>\n",
       "    <tr style=\"text-align: right;\">\n",
       "      <th></th>\n",
       "      <th>Store</th>\n",
       "      <th>Date</th>\n",
       "      <th>Weekly_Sales</th>\n",
       "      <th>Holiday_Flag</th>\n",
       "      <th>Temperature</th>\n",
       "      <th>Fuel_Price</th>\n",
       "      <th>CPI</th>\n",
       "      <th>Unemployment</th>\n",
       "      <th>year</th>\n",
       "      <th>month</th>\n",
       "      <th>Day</th>\n",
       "    </tr>\n",
       "  </thead>\n",
       "  <tbody>\n",
       "    <tr>\n",
       "      <th>0</th>\n",
       "      <td>1</td>\n",
       "      <td>05-02-2010</td>\n",
       "      <td>1643690.90</td>\n",
       "      <td>0</td>\n",
       "      <td>42.31</td>\n",
       "      <td>2.572</td>\n",
       "      <td>211.096358</td>\n",
       "      <td>8.106</td>\n",
       "      <td>2010</td>\n",
       "      <td>5</td>\n",
       "      <td>2</td>\n",
       "    </tr>\n",
       "    <tr>\n",
       "      <th>2</th>\n",
       "      <td>1</td>\n",
       "      <td>19-02-2010</td>\n",
       "      <td>1611968.17</td>\n",
       "      <td>0</td>\n",
       "      <td>39.93</td>\n",
       "      <td>2.514</td>\n",
       "      <td>211.289143</td>\n",
       "      <td>8.106</td>\n",
       "      <td>2010</td>\n",
       "      <td>2</td>\n",
       "      <td>19</td>\n",
       "    </tr>\n",
       "    <tr>\n",
       "      <th>3</th>\n",
       "      <td>1</td>\n",
       "      <td>26-02-2010</td>\n",
       "      <td>1409727.59</td>\n",
       "      <td>0</td>\n",
       "      <td>46.63</td>\n",
       "      <td>2.561</td>\n",
       "      <td>211.319643</td>\n",
       "      <td>8.106</td>\n",
       "      <td>2010</td>\n",
       "      <td>2</td>\n",
       "      <td>26</td>\n",
       "    </tr>\n",
       "    <tr>\n",
       "      <th>4</th>\n",
       "      <td>1</td>\n",
       "      <td>05-03-2010</td>\n",
       "      <td>1554806.68</td>\n",
       "      <td>0</td>\n",
       "      <td>46.50</td>\n",
       "      <td>2.625</td>\n",
       "      <td>211.350143</td>\n",
       "      <td>8.106</td>\n",
       "      <td>2010</td>\n",
       "      <td>5</td>\n",
       "      <td>3</td>\n",
       "    </tr>\n",
       "    <tr>\n",
       "      <th>5</th>\n",
       "      <td>1</td>\n",
       "      <td>12-03-2010</td>\n",
       "      <td>1439541.59</td>\n",
       "      <td>0</td>\n",
       "      <td>57.79</td>\n",
       "      <td>2.667</td>\n",
       "      <td>211.380643</td>\n",
       "      <td>8.106</td>\n",
       "      <td>2010</td>\n",
       "      <td>12</td>\n",
       "      <td>3</td>\n",
       "    </tr>\n",
       "  </tbody>\n",
       "</table>\n",
       "</div>"
      ],
      "text/plain": [
       "   Store        Date  Weekly_Sales  Holiday_Flag  Temperature  Fuel_Price  \\\n",
       "0      1  05-02-2010    1643690.90             0        42.31       2.572   \n",
       "2      1  19-02-2010    1611968.17             0        39.93       2.514   \n",
       "3      1  26-02-2010    1409727.59             0        46.63       2.561   \n",
       "4      1  05-03-2010    1554806.68             0        46.50       2.625   \n",
       "5      1  12-03-2010    1439541.59             0        57.79       2.667   \n",
       "\n",
       "          CPI  Unemployment  year  month  Day  \n",
       "0  211.096358         8.106  2010      5    2  \n",
       "2  211.289143         8.106  2010      2   19  \n",
       "3  211.319643         8.106  2010      2   26  \n",
       "4  211.350143         8.106  2010      5    3  \n",
       "5  211.380643         8.106  2010     12    3  "
      ]
     },
     "execution_count": 20,
     "metadata": {},
     "output_type": "execute_result"
    }
   ],
   "source": [
    "df_walmart_nonholiday=df_walmart[df_walmart['Holiday_Flag']==0]\n",
    "df_walmart_nonholiday.head()\n",
    "#Filter Weeks which had no Holiday"
   ]
  },
  {
   "cell_type": "code",
   "execution_count": 21,
   "metadata": {},
   "outputs": [
    {
     "name": "stdout",
     "output_type": "stream",
     "text": [
      "(180, 11)\n",
      "(1980, 11)\n"
     ]
    }
   ],
   "source": [
    "print(df_walmart_holiday[df_walmart_holiday['year']==2010].shape)\n",
    "print(df_walmart_nonholiday[df_walmart_nonholiday['year']==2010].shape)"
   ]
  },
  {
   "cell_type": "markdown",
   "metadata": {},
   "source": [
    "This give us a contest that there are 4 Holiday weeks and 44 Non Holiday Weeks"
   ]
  },
  {
   "cell_type": "code",
   "execution_count": 22,
   "metadata": {},
   "outputs": [
    {
     "data": {
      "text/plain": [
       "1112358.8761666666"
      ]
     },
     "execution_count": 22,
     "metadata": {},
     "output_type": "execute_result"
    }
   ],
   "source": [
    "q=df_walmart_holiday.groupby(['year'])['Weekly_Sales'].mean().get(2010)\n",
    "q"
   ]
  },
  {
   "cell_type": "markdown",
   "metadata": {},
   "source": [
    "#### The Average weekly sales on a Holiday week accross all stores in 2010 is $1112358"
   ]
  },
  {
   "cell_type": "code",
   "execution_count": 23,
   "metadata": {},
   "outputs": [
    {
     "data": {
      "text/plain": [
       "636158.2087668811"
      ]
     },
     "execution_count": 23,
     "metadata": {},
     "output_type": "execute_result"
    }
   ],
   "source": [
    "w=df_walmart_holiday.groupby(['year'])['Weekly_Sales'].std().get(2010)\n",
    "w"
   ]
  },
  {
   "cell_type": "markdown",
   "metadata": {},
   "source": [
    "#### The Standard Deviation weekly sales on a Holiday week accross all stores in 2010 is $636158"
   ]
  },
  {
   "cell_type": "code",
   "execution_count": 24,
   "metadata": {},
   "outputs": [
    {
     "data": {
      "text/plain": [
       "1054879.5569191917"
      ]
     },
     "execution_count": 24,
     "metadata": {},
     "output_type": "execute_result"
    }
   ],
   "source": [
    "e=df_walmart_nonholiday.groupby(['year'])['Weekly_Sales'].mean().get(2010)\n",
    "e"
   ]
  },
  {
   "cell_type": "markdown",
   "metadata": {},
   "source": [
    "#### The Average weekly sales on a non Holiday week accross all stores in 2010 is $1054879"
   ]
  },
  {
   "cell_type": "code",
   "execution_count": 25,
   "metadata": {},
   "outputs": [
    {
     "data": {
      "text/plain": [
       "577185.3215840224"
      ]
     },
     "execution_count": 25,
     "metadata": {},
     "output_type": "execute_result"
    }
   ],
   "source": [
    "r=df_walmart_nonholiday.groupby(['year'])['Weekly_Sales'].std().get(2010)\n",
    "r"
   ]
  },
  {
   "cell_type": "markdown",
   "metadata": {},
   "source": [
    "#### The Standard Deviation weekly sales on a non Holiday week accross all stores in 2011 is $577185"
   ]
  },
  {
   "cell_type": "code",
   "execution_count": 26,
   "metadata": {},
   "outputs": [],
   "source": [
    "t=(q-e)/np.sqrt((w/180)+(r/1980))"
   ]
  },
  {
   "cell_type": "code",
   "execution_count": 27,
   "metadata": {},
   "outputs": [
    {
     "data": {
      "text/plain": [
       "929.2980476877126"
      ]
     },
     "execution_count": 27,
     "metadata": {},
     "output_type": "execute_result"
    }
   ],
   "source": [
    "abs(t)"
   ]
  },
  {
   "cell_type": "code",
   "execution_count": 28,
   "metadata": {},
   "outputs": [],
   "source": [
    "dof=1980+180-2"
   ]
  },
  {
   "cell_type": "code",
   "execution_count": 29,
   "metadata": {},
   "outputs": [],
   "source": [
    "from scipy import stats\n",
    "crticalt = stats.t.ppf(1-0.05,df=dof)"
   ]
  },
  {
   "cell_type": "code",
   "execution_count": 30,
   "metadata": {},
   "outputs": [
    {
     "data": {
      "text/plain": [
       "1.6455600344906018"
      ]
     },
     "execution_count": 30,
     "metadata": {},
     "output_type": "execute_result"
    }
   ],
   "source": [
    "crticalt "
   ]
  },
  {
   "cell_type": "code",
   "execution_count": 31,
   "metadata": {},
   "outputs": [
    {
     "name": "stdout",
     "output_type": "stream",
     "text": [
      "Accepting Alternate Hypothesis\n"
     ]
    }
   ],
   "source": [
    "if (abs(t)>crticalt):\n",
    "    print (\"Accepting Alternate Hypothesis\")\n",
    "else:\n",
    "    print (\"Accepting Null Hypothesis\")"
   ]
  },
  {
   "cell_type": "code",
   "execution_count": 32,
   "metadata": {},
   "outputs": [
    {
     "name": "stdout",
     "output_type": "stream",
     "text": [
      "Alternate Hypothesis is accepeted in 45 Stores in the year 2010\n",
      "Null Hypothesis is accepeted in 0 Stores in the year 2010\n",
      "Alternate Hypothesis is accepeted in 45 Stores in the year 2011\n",
      "Null Hypothesis is accepeted in 0 Stores in the year 2011\n",
      "Alternate Hypothesis is accepeted in 45 Stores in the year 2012\n",
      "Null Hypothesis is accepeted in 0 Stores in the year 2012\n"
     ]
    }
   ],
   "source": [
    "for j in list(df_walmart['year'].unique()):\n",
    "    AlternateHypothesis =0\n",
    "    NullHypothesis =0\n",
    "    for i in list(df_walmart['Store'].unique()):\n",
    "        dof1=df_walmart_holiday[(df_walmart_holiday['year']==j) & (df_walmart_holiday['Store']==i)].shape[0]\n",
    "        dof2=df_walmart_nonholiday[(df_walmart_nonholiday['year']==j) & (df_walmart_nonholiday['Store']==i)].shape[0]\n",
    "        dummy1=df_walmart_holiday[(df_walmart_holiday['year']==j) & (df_walmart_holiday['Store']==i)]\n",
    "        dummy2=df_walmart_nonholiday[(df_walmart_nonholiday['year']==j) & (df_walmart_nonholiday['Store']==i)]\n",
    "        q=dummy1['Weekly_Sales'].mean()\n",
    "        w=dummy1['Weekly_Sales'].std()\n",
    "        e=dummy2['Weekly_Sales'].mean()\n",
    "        r=dummy2['Weekly_Sales'].std()   \n",
    "        t=(q-e)/np.sqrt((w/dof1)+(r/dof2))\n",
    "        crticalt = stats.t.ppf(1-0.05,df=dof1+dof2-2)\n",
    "        if (abs(t)>crticalt):\n",
    "            AlternateHypothesis+=1\n",
    "        else:\n",
    "            NullHypothesis+=1\n",
    "    print(\"Alternate Hypothesis is accepeted in \"+str(AlternateHypothesis)+\" Stores in the year \"+str(j))\n",
    "    print(\"Null Hypothesis is accepeted in \"+str(NullHypothesis)+\" Stores in the year \"+str(j))"
   ]
  },
  {
   "cell_type": "markdown",
   "metadata": {},
   "source": [
    "## HYPOTHESIS TESTING 2"
   ]
  },
  {
   "cell_type": "markdown",
   "metadata": {},
   "source": [
    "#### NULL HYPOTHESIS : HOLIDAY WEEK SALES IN 2010 IS LESSER THAN OR EQUAL TO 2011\n"
   ]
  },
  {
   "cell_type": "markdown",
   "metadata": {},
   "source": [
    "#### ALTERNATE HYPOTHESIS : HOLIDAY WEEK SALES IN 2010 IS GREATER THAN TO 2011"
   ]
  },
  {
   "cell_type": "code",
   "execution_count": 33,
   "metadata": {},
   "outputs": [
    {
     "name": "stdout",
     "output_type": "stream",
     "text": [
      "Alternate Hypothesis is accepted \n"
     ]
    }
   ],
   "source": [
    "q=df_walmart_holiday.groupby(['year'])['Weekly_Sales'].mean().get(2010)\n",
    "w=df_walmart_holiday.groupby(['year'])['Weekly_Sales'].std().get(2010)\n",
    "e=df_walmart_holiday.groupby(['year'])['Weekly_Sales'].mean().get(2011)\n",
    "r=df_walmart_holiday.groupby(['year'])['Weekly_Sales'].std().get(2011)\n",
    "dof1=df_walmart_holiday[(df_walmart_holiday['year']==2010)].shape[0]\n",
    "dof2=df_walmart_holiday[(df_walmart_holiday['year']==2011)].shape[0]\n",
    "t=(q-e)/np.sqrt((w/dof1)+(r/dof2))\n",
    "crticalt = stats.t.ppf(1-0.05,df=dof1+dof2-2)\n",
    "if (abs(t)>crticalt):\n",
    "    print('Alternate Hypothesis is accepted ')\n",
    "else:\n",
    "    print('Null Hypothesis is accepted')"
   ]
  },
  {
   "cell_type": "markdown",
   "metadata": {},
   "source": [
    "### We conclude from the Hypothesis testing is that Holiday Week Sales in 2010 is greater than 2011"
   ]
  },
  {
   "cell_type": "markdown",
   "metadata": {},
   "source": [
    "ADDING REGIONS TO THE STORES <br>\n",
    "Initially Setting all to South <br>\n",
    "Manipulating Store 13 to 24 as West <br>\n",
    "Manipulating Store 25 to 36 as East <br>\n",
    "Manipulating Store 37 to 45 as North <br>"
   ]
  },
  {
   "cell_type": "code",
   "execution_count": 34,
   "metadata": {},
   "outputs": [],
   "source": [
    "df_walmart['Region']='South'"
   ]
  },
  {
   "cell_type": "code",
   "execution_count": 35,
   "metadata": {},
   "outputs": [],
   "source": [
    "df_walmart.loc[6433,'Region']=\"West\""
   ]
  },
  {
   "cell_type": "code",
   "execution_count": 36,
   "metadata": {},
   "outputs": [],
   "source": [
    "for i in range(13,25):\n",
    "    indexlist=df_walmart[df_walmart['Store']==i].index.values\n",
    "    for j in indexlist:\n",
    "        df_walmart.loc[j,'Region']=\"West\"\n",
    "for i in range(25,37):\n",
    "    indexlist=df_walmart[df_walmart['Store']==i].index.values\n",
    "    for j in indexlist:\n",
    "        df_walmart.loc[j,'Region']=\"East\" \n",
    "for i in range(37,46):\n",
    "    indexlist=df_walmart[df_walmart['Store']==i].index.values\n",
    "    for j in indexlist:\n",
    "        df_walmart.loc[j,'Region']=\"North\"         "
   ]
  },
  {
   "cell_type": "code",
   "execution_count": 37,
   "metadata": {},
   "outputs": [
    {
     "data": {
      "text/plain": [
       "East     1716\n",
       "West     1716\n",
       "South    1716\n",
       "North    1287\n",
       "Name: Region, dtype: int64"
      ]
     },
     "execution_count": 37,
     "metadata": {},
     "output_type": "execute_result"
    }
   ],
   "source": [
    "df_walmart.Region.value_counts()"
   ]
  },
  {
   "cell_type": "markdown",
   "metadata": {},
   "source": [
    "## ANNOVA TESTING"
   ]
  },
  {
   "cell_type": "markdown",
   "metadata": {},
   "source": [
    "#### NULL HYPOTHESIS : THE SALES ACROSS REGIONS IS SAME "
   ]
  },
  {
   "cell_type": "markdown",
   "metadata": {},
   "source": [
    "#### ALTERNATE HYPOTHESIS : THE SALES ACROSS REGIONS IS NOT SAME"
   ]
  },
  {
   "cell_type": "code",
   "execution_count": 38,
   "metadata": {},
   "outputs": [],
   "source": [
    "#THE ABOVE ANALYSIS WILL BE PERFORMED FOR BOTH THE YEARS 2010 and 2011"
   ]
  },
  {
   "cell_type": "markdown",
   "metadata": {},
   "source": [
    "Correction Measure is Aggregation of All Sales in 2010 divided by the number of Observation"
   ]
  },
  {
   "cell_type": "code",
   "execution_count": 39,
   "metadata": {},
   "outputs": [
    {
     "name": "stdout",
     "output_type": "stream",
     "text": [
      "2288886120.41\n",
      "Correction Measure =  2425462810337340.0\n"
     ]
    }
   ],
   "source": [
    "print(df_walmart[df_walmart['year']==2010].Weekly_Sales.sum())\n",
    "CM=(int(df_walmart[df_walmart['year']==2010].Weekly_Sales.sum())**2)/df_walmart[df_walmart['year']==2010].shape[0]\n",
    "print(\"Correction Measure = \",CM)"
   ]
  },
  {
   "cell_type": "code",
   "execution_count": 40,
   "metadata": {},
   "outputs": [
    {
     "data": {
      "text/plain": [
       "East     1716\n",
       "West     1716\n",
       "South    1716\n",
       "North    1287\n",
       "Name: Region, dtype: int64"
      ]
     },
     "execution_count": 40,
     "metadata": {},
     "output_type": "execute_result"
    }
   ],
   "source": [
    "df_walmart.Region.value_counts()"
   ]
  },
  {
   "cell_type": "markdown",
   "metadata": {},
   "source": [
    "Sum of Squares of Total is calculated by Squaring each term and Summing it up and subracting the Correction measure"
   ]
  },
  {
   "cell_type": "code",
   "execution_count": 41,
   "metadata": {},
   "outputs": [],
   "source": [
    "Sum_of_Square_of_Observation=df_walmart[df_walmart['year']==2010].Weekly_Sales**2\n",
    "SST=Sum_of_Square_of_Observation.sum()-CM"
   ]
  },
  {
   "cell_type": "code",
   "execution_count": 42,
   "metadata": {},
   "outputs": [
    {
     "data": {
      "text/plain": [
       "576"
      ]
     },
     "execution_count": 42,
     "metadata": {},
     "output_type": "execute_result"
    }
   ],
   "source": [
    "df_walmart[(df_walmart['year']==2010) & (df_walmart['Region']==\"South\")].shape[0]"
   ]
  },
  {
   "cell_type": "markdown",
   "metadata": {},
   "source": [
    "Sum of Square Between <br>\n",
    "The values of each regions are aggregated and sum is squared and divided by number of observations in the respective region <br>\n",
    "The regions wise aggregation is summed up and correction measure is subracted and this gives us the Sum of Sqaure Betweem"
   ]
  },
  {
   "cell_type": "markdown",
   "metadata": {},
   "source": [
    "Sum of Square Within (Error) <br>\n",
    "The difference between Sum of Sqaure (Total) and Sum of Sqaure (Between)"
   ]
  },
  {
   "cell_type": "markdown",
   "metadata": {},
   "source": [
    "Degree of Freedom  <br>\n",
    "SSB= Number of Columns - 1 (Here Each Region is considered as Column) <br>\n",
    "SSW/SSE = Total Number of Observation - Number of Columns  <br>\n"
   ]
  },
  {
   "cell_type": "markdown",
   "metadata": {},
   "source": [
    "Mean Sqaure : <br>\n",
    "Mean Sum of Sqaure Between => Sum of Squares Between divided by the corresponding Degree of Freedom <br>\n",
    "Mean Sum of Sqaure Within  => Sum of Squares Within  divided by the corresponding Degree of Freedom <br>"
   ]
  },
  {
   "cell_type": "markdown",
   "metadata": {},
   "source": [
    "Confidence Interval : 95%"
   ]
  },
  {
   "cell_type": "code",
   "execution_count": 43,
   "metadata": {},
   "outputs": [
    {
     "name": "stdout",
     "output_type": "stream",
     "text": [
      "Accepting Alternate Hypothesis\n"
     ]
    }
   ],
   "source": [
    "SSSouth=int(df_walmart[(df_walmart['year']==2010) & (df_walmart['Region']==\"South\")].Weekly_Sales.sum())**2/df_walmart[(df_walmart['year']==2010) & (df_walmart['Region']==\"South\")].shape[0]\n",
    "SSWest=int(df_walmart[(df_walmart['year']==2010) & (df_walmart['Region']==\"West\")].Weekly_Sales.sum())**2/df_walmart[(df_walmart['year']==2010) & (df_walmart['Region']==\"West\")].shape[0]\n",
    "SSEast=int(df_walmart[(df_walmart['year']==2010) & (df_walmart['Region']==\"East\")].Weekly_Sales.sum())**2/df_walmart[(df_walmart['year']==2010) & (df_walmart['Region']==\"East\")].shape[0]\n",
    "SSNorth=int(df_walmart[(df_walmart['year']==2010) & (df_walmart['Region']==\"North\")].Weekly_Sales.sum())**2/df_walmart[(df_walmart['year']==2010) & (df_walmart['Region']==\"North\")].shape[0]\n",
    "SSB=int(SSSouth+SSWest+SSEast+SSNorth-CM)\n",
    "SSE=SST-SSB\n",
    "DofOfSSB=3\n",
    "DofOdSSW=df_walmart[df_walmart['year']==2010].shape[0]-4\n",
    "MSSSB=SSB/DofOfSSB\n",
    "MSSSW=SSE/DofOdSSW\n",
    "F=MSSSB/MSSSW\n",
    "import scipy.stats\n",
    "FTableStat=scipy.stats.f.ppf(q=1-.05, dfn=DofOfSSB, dfd=DofOdSSW)\n",
    "if(abs(F)<FTableStat):\n",
    "    print(\"Accepting Null Hypothesis\")\n",
    "else:\n",
    "    print(\"Accepting Alternate Hypothesis\")\n"
   ]
  },
  {
   "cell_type": "markdown",
   "metadata": {},
   "source": [
    "#### We conclude that THE SALES ACROSS REGIONS IS NOT SAME"
   ]
  },
  {
   "cell_type": "markdown",
   "metadata": {},
   "source": [
    "Checking if there is any auto corelation between Feautures"
   ]
  },
  {
   "cell_type": "code",
   "execution_count": 44,
   "metadata": {},
   "outputs": [
    {
     "data": {
      "text/plain": [
       "<AxesSubplot:>"
      ]
     },
     "execution_count": 44,
     "metadata": {},
     "output_type": "execute_result"
    },
    {
     "data": {
      "image/png": "[encoded data removed]",
      "text/plain": [
       "<Figure size 432x288 with 2 Axes>"
      ]
     },
     "metadata": {
      "needs_background": "light"
     },
     "output_type": "display_data"
    }
   ],
   "source": [
    "sns.heatmap(df_walmart.corr())"
   ]
  },
  {
   "cell_type": "markdown",
   "metadata": {},
   "source": [
    "Creating Dummies for stores as Store Number plays a quite vital role in Sales Predictions"
   ]
  },
  {
   "cell_type": "code",
   "execution_count": 45,
   "metadata": {},
   "outputs": [],
   "source": [
    "df_walmart_dummies=pd.get_dummies(df_walmart,columns=['Store'])"
   ]
  },
  {
   "cell_type": "code",
   "execution_count": 46,
   "metadata": {
    "scrolled": true
   },
   "outputs": [
    {
     "data": {
      "text/html": [
       "<div>\n",
       "<style scoped>\n",
       "    .dataframe tbody tr th:only-of-type {\n",
       "        vertical-align: middle;\n",
       "    }\n",
       "\n",
       "    .dataframe tbody tr th {\n",
       "        vertical-align: top;\n",
       "    }\n",
       "\n",
       "    .dataframe thead th {\n",
       "        text-align: right;\n",
       "    }\n",
       "</style>\n",
       "<table border=\"1\" class=\"dataframe\">\n",
       "  <thead>\n",
       "    <tr style=\"text-align: right;\">\n",
       "      <th></th>\n",
       "      <th>Date</th>\n",
       "      <th>Weekly_Sales</th>\n",
       "      <th>Holiday_Flag</th>\n",
       "      <th>Temperature</th>\n",
       "      <th>Fuel_Price</th>\n",
       "      <th>CPI</th>\n",
       "      <th>Unemployment</th>\n",
       "      <th>year</th>\n",
       "      <th>month</th>\n",
       "      <th>Day</th>\n",
       "      <th>...</th>\n",
       "      <th>Store_36</th>\n",
       "      <th>Store_37</th>\n",
       "      <th>Store_38</th>\n",
       "      <th>Store_39</th>\n",
       "      <th>Store_40</th>\n",
       "      <th>Store_41</th>\n",
       "      <th>Store_42</th>\n",
       "      <th>Store_43</th>\n",
       "      <th>Store_44</th>\n",
       "      <th>Store_45</th>\n",
       "    </tr>\n",
       "  </thead>\n",
       "  <tbody>\n",
       "    <tr>\n",
       "      <th>0</th>\n",
       "      <td>05-02-2010</td>\n",
       "      <td>1643690.90</td>\n",
       "      <td>0</td>\n",
       "      <td>42.31</td>\n",
       "      <td>2.572</td>\n",
       "      <td>211.096358</td>\n",
       "      <td>8.106</td>\n",
       "      <td>2010</td>\n",
       "      <td>5</td>\n",
       "      <td>2</td>\n",
       "      <td>...</td>\n",
       "      <td>0</td>\n",
       "      <td>0</td>\n",
       "      <td>0</td>\n",
       "      <td>0</td>\n",
       "      <td>0</td>\n",
       "      <td>0</td>\n",
       "      <td>0</td>\n",
       "      <td>0</td>\n",
       "      <td>0</td>\n",
       "      <td>0</td>\n",
       "    </tr>\n",
       "    <tr>\n",
       "      <th>1</th>\n",
       "      <td>12-02-2010</td>\n",
       "      <td>1641957.44</td>\n",
       "      <td>1</td>\n",
       "      <td>38.51</td>\n",
       "      <td>2.548</td>\n",
       "      <td>211.242170</td>\n",
       "      <td>8.106</td>\n",
       "      <td>2010</td>\n",
       "      <td>12</td>\n",
       "      <td>2</td>\n",
       "      <td>...</td>\n",
       "      <td>0</td>\n",
       "      <td>0</td>\n",
       "      <td>0</td>\n",
       "      <td>0</td>\n",
       "      <td>0</td>\n",
       "      <td>0</td>\n",
       "      <td>0</td>\n",
       "      <td>0</td>\n",
       "      <td>0</td>\n",
       "      <td>0</td>\n",
       "    </tr>\n",
       "    <tr>\n",
       "      <th>2</th>\n",
       "      <td>19-02-2010</td>\n",
       "      <td>1611968.17</td>\n",
       "      <td>0</td>\n",
       "      <td>39.93</td>\n",
       "      <td>2.514</td>\n",
       "      <td>211.289143</td>\n",
       "      <td>8.106</td>\n",
       "      <td>2010</td>\n",
       "      <td>2</td>\n",
       "      <td>19</td>\n",
       "      <td>...</td>\n",
       "      <td>0</td>\n",
       "      <td>0</td>\n",
       "      <td>0</td>\n",
       "      <td>0</td>\n",
       "      <td>0</td>\n",
       "      <td>0</td>\n",
       "      <td>0</td>\n",
       "      <td>0</td>\n",
       "      <td>0</td>\n",
       "      <td>0</td>\n",
       "    </tr>\n",
       "    <tr>\n",
       "      <th>3</th>\n",
       "      <td>26-02-2010</td>\n",
       "      <td>1409727.59</td>\n",
       "      <td>0</td>\n",
       "      <td>46.63</td>\n",
       "      <td>2.561</td>\n",
       "      <td>211.319643</td>\n",
       "      <td>8.106</td>\n",
       "      <td>2010</td>\n",
       "      <td>2</td>\n",
       "      <td>26</td>\n",
       "      <td>...</td>\n",
       "      <td>0</td>\n",
       "      <td>0</td>\n",
       "      <td>0</td>\n",
       "      <td>0</td>\n",
       "      <td>0</td>\n",
       "      <td>0</td>\n",
       "      <td>0</td>\n",
       "      <td>0</td>\n",
       "      <td>0</td>\n",
       "      <td>0</td>\n",
       "    </tr>\n",
       "    <tr>\n",
       "      <th>4</th>\n",
       "      <td>05-03-2010</td>\n",
       "      <td>1554806.68</td>\n",
       "      <td>0</td>\n",
       "      <td>46.50</td>\n",
       "      <td>2.625</td>\n",
       "      <td>211.350143</td>\n",
       "      <td>8.106</td>\n",
       "      <td>2010</td>\n",
       "      <td>5</td>\n",
       "      <td>3</td>\n",
       "      <td>...</td>\n",
       "      <td>0</td>\n",
       "      <td>0</td>\n",
       "      <td>0</td>\n",
       "      <td>0</td>\n",
       "      <td>0</td>\n",
       "      <td>0</td>\n",
       "      <td>0</td>\n",
       "      <td>0</td>\n",
       "      <td>0</td>\n",
       "      <td>0</td>\n",
       "    </tr>\n",
       "    <tr>\n",
       "      <th>...</th>\n",
       "      <td>...</td>\n",
       "      <td>...</td>\n",
       "      <td>...</td>\n",
       "      <td>...</td>\n",
       "      <td>...</td>\n",
       "      <td>...</td>\n",
       "      <td>...</td>\n",
       "      <td>...</td>\n",
       "      <td>...</td>\n",
       "      <td>...</td>\n",
       "      <td>...</td>\n",
       "      <td>...</td>\n",
       "      <td>...</td>\n",
       "      <td>...</td>\n",
       "      <td>...</td>\n",
       "      <td>...</td>\n",
       "      <td>...</td>\n",
       "      <td>...</td>\n",
       "      <td>...</td>\n",
       "      <td>...</td>\n",
       "      <td>...</td>\n",
       "    </tr>\n",
       "    <tr>\n",
       "      <th>6430</th>\n",
       "      <td>28-09-2012</td>\n",
       "      <td>713173.95</td>\n",
       "      <td>0</td>\n",
       "      <td>64.88</td>\n",
       "      <td>3.997</td>\n",
       "      <td>192.013558</td>\n",
       "      <td>8.684</td>\n",
       "      <td>2012</td>\n",
       "      <td>9</td>\n",
       "      <td>28</td>\n",
       "      <td>...</td>\n",
       "      <td>0</td>\n",
       "      <td>0</td>\n",
       "      <td>0</td>\n",
       "      <td>0</td>\n",
       "      <td>0</td>\n",
       "      <td>0</td>\n",
       "      <td>0</td>\n",
       "      <td>0</td>\n",
       "      <td>0</td>\n",
       "      <td>1</td>\n",
       "    </tr>\n",
       "    <tr>\n",
       "      <th>6431</th>\n",
       "      <td>05-10-2012</td>\n",
       "      <td>733455.07</td>\n",
       "      <td>0</td>\n",
       "      <td>64.89</td>\n",
       "      <td>3.985</td>\n",
       "      <td>192.170412</td>\n",
       "      <td>8.667</td>\n",
       "      <td>2012</td>\n",
       "      <td>5</td>\n",
       "      <td>10</td>\n",
       "      <td>...</td>\n",
       "      <td>0</td>\n",
       "      <td>0</td>\n",
       "      <td>0</td>\n",
       "      <td>0</td>\n",
       "      <td>0</td>\n",
       "      <td>0</td>\n",
       "      <td>0</td>\n",
       "      <td>0</td>\n",
       "      <td>0</td>\n",
       "      <td>1</td>\n",
       "    </tr>\n",
       "    <tr>\n",
       "      <th>6432</th>\n",
       "      <td>12-10-2012</td>\n",
       "      <td>734464.36</td>\n",
       "      <td>0</td>\n",
       "      <td>54.47</td>\n",
       "      <td>4.000</td>\n",
       "      <td>192.327265</td>\n",
       "      <td>8.667</td>\n",
       "      <td>2012</td>\n",
       "      <td>12</td>\n",
       "      <td>10</td>\n",
       "      <td>...</td>\n",
       "      <td>0</td>\n",
       "      <td>0</td>\n",
       "      <td>0</td>\n",
       "      <td>0</td>\n",
       "      <td>0</td>\n",
       "      <td>0</td>\n",
       "      <td>0</td>\n",
       "      <td>0</td>\n",
       "      <td>0</td>\n",
       "      <td>1</td>\n",
       "    </tr>\n",
       "    <tr>\n",
       "      <th>6433</th>\n",
       "      <td>19-10-2012</td>\n",
       "      <td>718125.53</td>\n",
       "      <td>0</td>\n",
       "      <td>56.47</td>\n",
       "      <td>3.969</td>\n",
       "      <td>192.330854</td>\n",
       "      <td>8.667</td>\n",
       "      <td>2012</td>\n",
       "      <td>10</td>\n",
       "      <td>19</td>\n",
       "      <td>...</td>\n",
       "      <td>0</td>\n",
       "      <td>0</td>\n",
       "      <td>0</td>\n",
       "      <td>0</td>\n",
       "      <td>0</td>\n",
       "      <td>0</td>\n",
       "      <td>0</td>\n",
       "      <td>0</td>\n",
       "      <td>0</td>\n",
       "      <td>1</td>\n",
       "    </tr>\n",
       "    <tr>\n",
       "      <th>6434</th>\n",
       "      <td>26-10-2012</td>\n",
       "      <td>760281.43</td>\n",
       "      <td>0</td>\n",
       "      <td>58.85</td>\n",
       "      <td>3.882</td>\n",
       "      <td>192.308899</td>\n",
       "      <td>8.667</td>\n",
       "      <td>2012</td>\n",
       "      <td>10</td>\n",
       "      <td>26</td>\n",
       "      <td>...</td>\n",
       "      <td>0</td>\n",
       "      <td>0</td>\n",
       "      <td>0</td>\n",
       "      <td>0</td>\n",
       "      <td>0</td>\n",
       "      <td>0</td>\n",
       "      <td>0</td>\n",
       "      <td>0</td>\n",
       "      <td>0</td>\n",
       "      <td>1</td>\n",
       "    </tr>\n",
       "  </tbody>\n",
       "</table>\n",
       "<p>6435 rows × 56 columns</p>\n",
       "</div>"
      ],
      "text/plain": [
       "            Date  Weekly_Sales  Holiday_Flag  Temperature  Fuel_Price  \\\n",
       "0     05-02-2010    1643690.90             0        42.31       2.572   \n",
       "1     12-02-2010    1641957.44             1        38.51       2.548   \n",
       "2     19-02-2010    1611968.17             0        39.93       2.514   \n",
       "3     26-02-2010    1409727.59             0        46.63       2.561   \n",
       "4     05-03-2010    1554806.68             0        46.50       2.625   \n",
       "...          ...           ...           ...          ...         ...   \n",
       "6430  28-09-2012     713173.95             0        64.88       3.997   \n",
       "6431  05-10-2012     733455.07             0        64.89       3.985   \n",
       "6432  12-10-2012     734464.36             0        54.47       4.000   \n",
       "6433  19-10-2012     718125.53             0        56.47       3.969   \n",
       "6434  26-10-2012     760281.43             0        58.85       3.882   \n",
       "\n",
       "             CPI  Unemployment  year  month  Day  ... Store_36  Store_37  \\\n",
       "0     211.096358         8.106  2010      5    2  ...        0         0   \n",
       "1     211.242170         8.106  2010     12    2  ...        0         0   \n",
       "2     211.289143         8.106  2010      2   19  ...        0         0   \n",
       "3     211.319643         8.106  2010      2   26  ...        0         0   \n",
       "4     211.350143         8.106  2010      5    3  ...        0         0   \n",
       "...          ...           ...   ...    ...  ...  ...      ...       ...   \n",
       "6430  192.013558         8.684  2012      9   28  ...        0         0   \n",
       "6431  192.170412         8.667  2012      5   10  ...        0         0   \n",
       "6432  192.327265         8.667  2012     12   10  ...        0         0   \n",
       "6433  192.330854         8.667  2012     10   19  ...        0         0   \n",
       "6434  192.308899         8.667  2012     10   26  ...        0         0   \n",
       "\n",
       "      Store_38  Store_39  Store_40  Store_41  Store_42  Store_43  Store_44  \\\n",
       "0            0         0         0         0         0         0         0   \n",
       "1            0         0         0         0         0         0         0   \n",
       "2            0         0         0         0         0         0         0   \n",
       "3            0         0         0         0         0         0         0   \n",
       "4            0         0         0         0         0         0         0   \n",
       "...        ...       ...       ...       ...       ...       ...       ...   \n",
       "6430         0         0         0         0         0         0         0   \n",
       "6431         0         0         0         0         0         0         0   \n",
       "6432         0         0         0         0         0         0         0   \n",
       "6433         0         0         0         0         0         0         0   \n",
       "6434         0         0         0         0         0         0         0   \n",
       "\n",
       "      Store_45  \n",
       "0            0  \n",
       "1            0  \n",
       "2            0  \n",
       "3            0  \n",
       "4            0  \n",
       "...        ...  \n",
       "6430         1  \n",
       "6431         1  \n",
       "6432         1  \n",
       "6433         1  \n",
       "6434         1  \n",
       "\n",
       "[6435 rows x 56 columns]"
      ]
     },
     "execution_count": 46,
     "metadata": {},
     "output_type": "execute_result"
    }
   ],
   "source": [
    "df_walmart_dummies"
   ]
  },
  {
   "cell_type": "markdown",
   "metadata": {},
   "source": [
    "### Modelling"
   ]
  },
  {
   "cell_type": "code",
   "execution_count": 47,
   "metadata": {},
   "outputs": [],
   "source": [
    "from sklearn.linear_model import LinearRegression"
   ]
  },
  {
   "cell_type": "markdown",
   "metadata": {},
   "source": [
    "Applying Linear Regression Model "
   ]
  },
  {
   "cell_type": "code",
   "execution_count": 48,
   "metadata": {},
   "outputs": [],
   "source": [
    "model = LinearRegression()"
   ]
  },
  {
   "cell_type": "code",
   "execution_count": 49,
   "metadata": {},
   "outputs": [],
   "source": [
    "from sklearn.model_selection import train_test_split as tts"
   ]
  },
  {
   "cell_type": "markdown",
   "metadata": {},
   "source": [
    "We are splittig the data into Test and Train <br>\n",
    "Test Data : 30% <br>\n",
    "Train Data : 70% <br>"
   ]
  },
  {
   "cell_type": "code",
   "execution_count": 50,
   "metadata": {},
   "outputs": [],
   "source": [
    "train,test= tts(df_walmart_dummies,test_size=0.3,random_state=1234)"
   ]
  },
  {
   "cell_type": "code",
   "execution_count": 51,
   "metadata": {},
   "outputs": [
    {
     "data": {
      "text/plain": [
       "(4504, 56)"
      ]
     },
     "execution_count": 51,
     "metadata": {},
     "output_type": "execute_result"
    }
   ],
   "source": [
    "train.shape"
   ]
  },
  {
   "cell_type": "code",
   "execution_count": 52,
   "metadata": {},
   "outputs": [
    {
     "data": {
      "text/plain": [
       "(1931, 56)"
      ]
     },
     "execution_count": 52,
     "metadata": {},
     "output_type": "execute_result"
    }
   ],
   "source": [
    "test.shape"
   ]
  },
  {
   "cell_type": "markdown",
   "metadata": {},
   "source": [
    "Resons for Dropping Columns: <br>\n",
    "Date Columns can be used in regression <br>\n",
    "Weekly_Sales is the Target Variable <br>\n",
    "Region was a assumption made for Annova Testing so dropping <br>\n",
    "Day is not important as this a weekly sales data and also Holiday significae is given Holiday Flag <br>\n"
   ]
  },
  {
   "cell_type": "code",
   "execution_count": 95,
   "metadata": {},
   "outputs": [],
   "source": [
    "train_x = train.drop(columns=['Weekly_Sales','Date','Day','month','year','Region'])\n",
    "train_y = train['Weekly_Sales']"
   ]
  },
  {
   "cell_type": "code",
   "execution_count": 96,
   "metadata": {},
   "outputs": [],
   "source": [
    "test_x = test.drop(columns=['Weekly_Sales','Date','Day','month','year','Region'])\n",
    "test_y = test['Weekly_Sales']"
   ]
  },
  {
   "cell_type": "markdown",
   "metadata": {},
   "source": [
    "Model is trained with data"
   ]
  },
  {
   "cell_type": "code",
   "execution_count": 97,
   "metadata": {},
   "outputs": [
    {
     "data": {
      "text/plain": [
       "LinearRegression()"
      ]
     },
     "execution_count": 97,
     "metadata": {},
     "output_type": "execute_result"
    }
   ],
   "source": [
    "model.fit(train_x,train_y)"
   ]
  },
  {
   "cell_type": "markdown",
   "metadata": {},
   "source": [
    "Model Score is given us R Sqaure of the Regression Model"
   ]
  },
  {
   "cell_type": "code",
   "execution_count": 98,
   "metadata": {},
   "outputs": [
    {
     "data": {
      "text/plain": [
       "0.9170506952893086"
      ]
     },
     "execution_count": 98,
     "metadata": {},
     "output_type": "execute_result"
    }
   ],
   "source": [
    "model.score(train_x,train_y)"
   ]
  },
  {
   "cell_type": "code",
   "execution_count": 99,
   "metadata": {},
   "outputs": [
    {
     "name": "stdout",
     "output_type": "stream",
     "text": [
      "[ 638410.27231478 1895421.18603871  976533.24432671 ...  973849.11747335\n",
      " 1191827.12010333 1903869.75099367]\n"
     ]
    }
   ],
   "source": [
    "y_pred=model.predict(test_x)\n",
    "print(y_pred)"
   ]
  },
  {
   "cell_type": "markdown",
   "metadata": {},
   "source": [
    "### Evaluation Metric"
   ]
  },
  {
   "cell_type": "code",
   "execution_count": 100,
   "metadata": {},
   "outputs": [],
   "source": [
    "from sklearn.metrics import mean_squared_error "
   ]
  },
  {
   "cell_type": "code",
   "execution_count": 101,
   "metadata": {},
   "outputs": [],
   "source": [
    "linearregressionmetric=np.sqrt(mean_squared_error(y_pred,test_y))"
   ]
  },
  {
   "cell_type": "code",
   "execution_count": 102,
   "metadata": {},
   "outputs": [
    {
     "name": "stdout",
     "output_type": "stream",
     "text": [
      "The RMSE value of Linear Regression is  151019.12993907268\n"
     ]
    }
   ],
   "source": [
    "print(\"The RMSE value of Linear Regression is \",linearregressionmetric)"
   ]
  },
  {
   "cell_type": "code",
   "execution_count": 103,
   "metadata": {},
   "outputs": [],
   "source": [
    "from statsmodels.api import OLS"
   ]
  },
  {
   "cell_type": "code",
   "execution_count": 104,
   "metadata": {},
   "outputs": [
    {
     "data": {
      "text/plain": [
       "array([[ 0.   , 66.98 ,  2.78 , ...,  0.   ,  0.   ,  0.   ],\n",
       "       [ 0.   , 14.5  ,  3.24 , ...,  0.   ,  0.   ,  0.   ],\n",
       "       [ 0.   , 40.2  ,  2.766, ...,  0.   ,  0.   ,  0.   ],\n",
       "       ...,\n",
       "       [ 1.   , 84.04 ,  2.961, ...,  0.   ,  0.   ,  0.   ],\n",
       "       [ 0.   , 64.94 ,  2.719, ...,  0.   ,  0.   ,  0.   ],\n",
       "       [ 0.   , 45.31 ,  2.561, ...,  0.   ,  0.   ,  0.   ]])"
      ]
     },
     "execution_count": 104,
     "metadata": {},
     "output_type": "execute_result"
    }
   ],
   "source": [
    "np.asarray(train_x)"
   ]
  },
  {
   "cell_type": "code",
   "execution_count": 105,
   "metadata": {},
   "outputs": [
    {
     "data": {
      "text/plain": [
       "array([1802450.29, 1159438.53, 1063960.11, ..., 1720530.23, 1770333.9 ,\n",
       "        749597.24])"
      ]
     },
     "execution_count": 105,
     "metadata": {},
     "output_type": "execute_result"
    }
   ],
   "source": [
    "np.asarray(train_y)"
   ]
  },
  {
   "cell_type": "code",
   "execution_count": 106,
   "metadata": {},
   "outputs": [
    {
     "data": {
      "text/html": [
       "<div>\n",
       "<style scoped>\n",
       "    .dataframe tbody tr th:only-of-type {\n",
       "        vertical-align: middle;\n",
       "    }\n",
       "\n",
       "    .dataframe tbody tr th {\n",
       "        vertical-align: top;\n",
       "    }\n",
       "\n",
       "    .dataframe thead th {\n",
       "        text-align: right;\n",
       "    }\n",
       "</style>\n",
       "<table border=\"1\" class=\"dataframe\">\n",
       "  <thead>\n",
       "    <tr style=\"text-align: right;\">\n",
       "      <th></th>\n",
       "      <th>Holiday_Flag</th>\n",
       "      <th>Temperature</th>\n",
       "      <th>Fuel_Price</th>\n",
       "      <th>CPI</th>\n",
       "      <th>Unemployment</th>\n",
       "      <th>Store_1</th>\n",
       "      <th>Store_2</th>\n",
       "      <th>Store_3</th>\n",
       "      <th>Store_4</th>\n",
       "      <th>Store_5</th>\n",
       "      <th>...</th>\n",
       "      <th>Store_36</th>\n",
       "      <th>Store_37</th>\n",
       "      <th>Store_38</th>\n",
       "      <th>Store_39</th>\n",
       "      <th>Store_40</th>\n",
       "      <th>Store_41</th>\n",
       "      <th>Store_42</th>\n",
       "      <th>Store_43</th>\n",
       "      <th>Store_44</th>\n",
       "      <th>Store_45</th>\n",
       "    </tr>\n",
       "  </thead>\n",
       "  <tbody>\n",
       "    <tr>\n",
       "      <th>155</th>\n",
       "      <td>0</td>\n",
       "      <td>66.98</td>\n",
       "      <td>2.780</td>\n",
       "      <td>210.050583</td>\n",
       "      <td>8.200</td>\n",
       "      <td>0</td>\n",
       "      <td>1</td>\n",
       "      <td>0</td>\n",
       "      <td>0</td>\n",
       "      <td>0</td>\n",
       "      <td>...</td>\n",
       "      <td>0</td>\n",
       "      <td>0</td>\n",
       "      <td>0</td>\n",
       "      <td>0</td>\n",
       "      <td>0</td>\n",
       "      <td>0</td>\n",
       "      <td>0</td>\n",
       "      <td>0</td>\n",
       "      <td>0</td>\n",
       "      <td>0</td>\n",
       "    </tr>\n",
       "    <tr>\n",
       "      <th>3198</th>\n",
       "      <td>0</td>\n",
       "      <td>14.50</td>\n",
       "      <td>3.240</td>\n",
       "      <td>133.183419</td>\n",
       "      <td>5.114</td>\n",
       "      <td>0</td>\n",
       "      <td>0</td>\n",
       "      <td>0</td>\n",
       "      <td>0</td>\n",
       "      <td>0</td>\n",
       "      <td>...</td>\n",
       "      <td>0</td>\n",
       "      <td>0</td>\n",
       "      <td>0</td>\n",
       "      <td>0</td>\n",
       "      <td>0</td>\n",
       "      <td>0</td>\n",
       "      <td>0</td>\n",
       "      <td>0</td>\n",
       "      <td>0</td>\n",
       "      <td>0</td>\n",
       "    </tr>\n",
       "    <tr>\n",
       "      <th>5732</th>\n",
       "      <td>0</td>\n",
       "      <td>40.20</td>\n",
       "      <td>2.766</td>\n",
       "      <td>189.575127</td>\n",
       "      <td>7.363</td>\n",
       "      <td>0</td>\n",
       "      <td>0</td>\n",
       "      <td>0</td>\n",
       "      <td>0</td>\n",
       "      <td>0</td>\n",
       "      <td>...</td>\n",
       "      <td>0</td>\n",
       "      <td>0</td>\n",
       "      <td>0</td>\n",
       "      <td>0</td>\n",
       "      <td>0</td>\n",
       "      <td>1</td>\n",
       "      <td>0</td>\n",
       "      <td>0</td>\n",
       "      <td>0</td>\n",
       "      <td>0</td>\n",
       "    </tr>\n",
       "    <tr>\n",
       "      <th>2443</th>\n",
       "      <td>0</td>\n",
       "      <td>51.12</td>\n",
       "      <td>2.935</td>\n",
       "      <td>132.064433</td>\n",
       "      <td>9.269</td>\n",
       "      <td>0</td>\n",
       "      <td>0</td>\n",
       "      <td>0</td>\n",
       "      <td>0</td>\n",
       "      <td>0</td>\n",
       "      <td>...</td>\n",
       "      <td>0</td>\n",
       "      <td>0</td>\n",
       "      <td>0</td>\n",
       "      <td>0</td>\n",
       "      <td>0</td>\n",
       "      <td>0</td>\n",
       "      <td>0</td>\n",
       "      <td>0</td>\n",
       "      <td>0</td>\n",
       "      <td>0</td>\n",
       "    </tr>\n",
       "    <tr>\n",
       "      <th>1540</th>\n",
       "      <td>0</td>\n",
       "      <td>64.21</td>\n",
       "      <td>3.734</td>\n",
       "      <td>224.716695</td>\n",
       "      <td>6.833</td>\n",
       "      <td>0</td>\n",
       "      <td>0</td>\n",
       "      <td>0</td>\n",
       "      <td>0</td>\n",
       "      <td>0</td>\n",
       "      <td>...</td>\n",
       "      <td>0</td>\n",
       "      <td>0</td>\n",
       "      <td>0</td>\n",
       "      <td>0</td>\n",
       "      <td>0</td>\n",
       "      <td>0</td>\n",
       "      <td>0</td>\n",
       "      <td>0</td>\n",
       "      <td>0</td>\n",
       "      <td>0</td>\n",
       "    </tr>\n",
       "    <tr>\n",
       "      <th>...</th>\n",
       "      <td>...</td>\n",
       "      <td>...</td>\n",
       "      <td>...</td>\n",
       "      <td>...</td>\n",
       "      <td>...</td>\n",
       "      <td>...</td>\n",
       "      <td>...</td>\n",
       "      <td>...</td>\n",
       "      <td>...</td>\n",
       "      <td>...</td>\n",
       "      <td>...</td>\n",
       "      <td>...</td>\n",
       "      <td>...</td>\n",
       "      <td>...</td>\n",
       "      <td>...</td>\n",
       "      <td>...</td>\n",
       "      <td>...</td>\n",
       "      <td>...</td>\n",
       "      <td>...</td>\n",
       "      <td>...</td>\n",
       "      <td>...</td>\n",
       "    </tr>\n",
       "    <tr>\n",
       "      <th>664</th>\n",
       "      <td>0</td>\n",
       "      <td>60.71</td>\n",
       "      <td>3.297</td>\n",
       "      <td>218.569962</td>\n",
       "      <td>6.300</td>\n",
       "      <td>0</td>\n",
       "      <td>0</td>\n",
       "      <td>0</td>\n",
       "      <td>0</td>\n",
       "      <td>1</td>\n",
       "      <td>...</td>\n",
       "      <td>0</td>\n",
       "      <td>0</td>\n",
       "      <td>0</td>\n",
       "      <td>0</td>\n",
       "      <td>0</td>\n",
       "      <td>0</td>\n",
       "      <td>0</td>\n",
       "      <td>0</td>\n",
       "      <td>0</td>\n",
       "      <td>0</td>\n",
       "    </tr>\n",
       "    <tr>\n",
       "      <th>3276</th>\n",
       "      <td>0</td>\n",
       "      <td>71.51</td>\n",
       "      <td>3.698</td>\n",
       "      <td>138.173581</td>\n",
       "      <td>4.156</td>\n",
       "      <td>0</td>\n",
       "      <td>0</td>\n",
       "      <td>0</td>\n",
       "      <td>0</td>\n",
       "      <td>0</td>\n",
       "      <td>...</td>\n",
       "      <td>0</td>\n",
       "      <td>0</td>\n",
       "      <td>0</td>\n",
       "      <td>0</td>\n",
       "      <td>0</td>\n",
       "      <td>0</td>\n",
       "      <td>0</td>\n",
       "      <td>0</td>\n",
       "      <td>0</td>\n",
       "      <td>0</td>\n",
       "    </tr>\n",
       "    <tr>\n",
       "      <th>1318</th>\n",
       "      <td>1</td>\n",
       "      <td>84.04</td>\n",
       "      <td>2.961</td>\n",
       "      <td>126.114581</td>\n",
       "      <td>9.199</td>\n",
       "      <td>0</td>\n",
       "      <td>0</td>\n",
       "      <td>0</td>\n",
       "      <td>0</td>\n",
       "      <td>0</td>\n",
       "      <td>...</td>\n",
       "      <td>0</td>\n",
       "      <td>0</td>\n",
       "      <td>0</td>\n",
       "      <td>0</td>\n",
       "      <td>0</td>\n",
       "      <td>0</td>\n",
       "      <td>0</td>\n",
       "      <td>0</td>\n",
       "      <td>0</td>\n",
       "      <td>0</td>\n",
       "    </tr>\n",
       "    <tr>\n",
       "      <th>723</th>\n",
       "      <td>0</td>\n",
       "      <td>64.94</td>\n",
       "      <td>2.719</td>\n",
       "      <td>212.332281</td>\n",
       "      <td>7.092</td>\n",
       "      <td>0</td>\n",
       "      <td>0</td>\n",
       "      <td>0</td>\n",
       "      <td>0</td>\n",
       "      <td>0</td>\n",
       "      <td>...</td>\n",
       "      <td>0</td>\n",
       "      <td>0</td>\n",
       "      <td>0</td>\n",
       "      <td>0</td>\n",
       "      <td>0</td>\n",
       "      <td>0</td>\n",
       "      <td>0</td>\n",
       "      <td>0</td>\n",
       "      <td>0</td>\n",
       "      <td>0</td>\n",
       "    </tr>\n",
       "    <tr>\n",
       "      <th>2863</th>\n",
       "      <td>0</td>\n",
       "      <td>45.31</td>\n",
       "      <td>2.561</td>\n",
       "      <td>210.975957</td>\n",
       "      <td>8.324</td>\n",
       "      <td>0</td>\n",
       "      <td>0</td>\n",
       "      <td>0</td>\n",
       "      <td>0</td>\n",
       "      <td>0</td>\n",
       "      <td>...</td>\n",
       "      <td>0</td>\n",
       "      <td>0</td>\n",
       "      <td>0</td>\n",
       "      <td>0</td>\n",
       "      <td>0</td>\n",
       "      <td>0</td>\n",
       "      <td>0</td>\n",
       "      <td>0</td>\n",
       "      <td>0</td>\n",
       "      <td>0</td>\n",
       "    </tr>\n",
       "  </tbody>\n",
       "</table>\n",
       "<p>4504 rows × 50 columns</p>\n",
       "</div>"
      ],
      "text/plain": [
       "      Holiday_Flag  Temperature  Fuel_Price         CPI  Unemployment  \\\n",
       "155              0        66.98       2.780  210.050583         8.200   \n",
       "3198             0        14.50       3.240  133.183419         5.114   \n",
       "5732             0        40.20       2.766  189.575127         7.363   \n",
       "2443             0        51.12       2.935  132.064433         9.269   \n",
       "1540             0        64.21       3.734  224.716695         6.833   \n",
       "...            ...          ...         ...         ...           ...   \n",
       "664              0        60.71       3.297  218.569962         6.300   \n",
       "3276             0        71.51       3.698  138.173581         4.156   \n",
       "1318             1        84.04       2.961  126.114581         9.199   \n",
       "723              0        64.94       2.719  212.332281         7.092   \n",
       "2863             0        45.31       2.561  210.975957         8.324   \n",
       "\n",
       "      Store_1  Store_2  Store_3  Store_4  Store_5  ...  Store_36  Store_37  \\\n",
       "155         0        1        0        0        0  ...         0         0   \n",
       "3198        0        0        0        0        0  ...         0         0   \n",
       "5732        0        0        0        0        0  ...         0         0   \n",
       "2443        0        0        0        0        0  ...         0         0   \n",
       "1540        0        0        0        0        0  ...         0         0   \n",
       "...       ...      ...      ...      ...      ...  ...       ...       ...   \n",
       "664         0        0        0        0        1  ...         0         0   \n",
       "3276        0        0        0        0        0  ...         0         0   \n",
       "1318        0        0        0        0        0  ...         0         0   \n",
       "723         0        0        0        0        0  ...         0         0   \n",
       "2863        0        0        0        0        0  ...         0         0   \n",
       "\n",
       "      Store_38  Store_39  Store_40  Store_41  Store_42  Store_43  Store_44  \\\n",
       "155          0         0         0         0         0         0         0   \n",
       "3198         0         0         0         0         0         0         0   \n",
       "5732         0         0         0         1         0         0         0   \n",
       "2443         0         0         0         0         0         0         0   \n",
       "1540         0         0         0         0         0         0         0   \n",
       "...        ...       ...       ...       ...       ...       ...       ...   \n",
       "664          0         0         0         0         0         0         0   \n",
       "3276         0         0         0         0         0         0         0   \n",
       "1318         0         0         0         0         0         0         0   \n",
       "723          0         0         0         0         0         0         0   \n",
       "2863         0         0         0         0         0         0         0   \n",
       "\n",
       "      Store_45  \n",
       "155          0  \n",
       "3198         0  \n",
       "5732         0  \n",
       "2443         0  \n",
       "1540         0  \n",
       "...        ...  \n",
       "664          0  \n",
       "3276         0  \n",
       "1318         0  \n",
       "723          0  \n",
       "2863         0  \n",
       "\n",
       "[4504 rows x 50 columns]"
      ]
     },
     "execution_count": 106,
     "metadata": {},
     "output_type": "execute_result"
    }
   ],
   "source": [
    "train_x"
   ]
  },
  {
   "cell_type": "code",
   "execution_count": 107,
   "metadata": {},
   "outputs": [
    {
     "data": {
      "text/plain": [
       "(4504,)"
      ]
     },
     "execution_count": 107,
     "metadata": {},
     "output_type": "execute_result"
    }
   ],
   "source": [
    "np.asarray(train_y).shape"
   ]
  },
  {
   "cell_type": "markdown",
   "metadata": {},
   "source": [
    "Applying Ordinary Least Square Method to Understand the Signficane of columns"
   ]
  },
  {
   "cell_type": "code",
   "execution_count": 108,
   "metadata": {},
   "outputs": [
    {
     "data": {
      "text/html": [
       "<table class=\"simpletable\">\n",
       "<caption>OLS Regression Results</caption>\n",
       "<tr>\n",
       "  <th>Dep. Variable:</th>            <td>y</td>        <th>  R-squared:         </th> <td>   0.917</td> \n",
       "</tr>\n",
       "<tr>\n",
       "  <th>Model:</th>                   <td>OLS</td>       <th>  Adj. R-squared:    </th> <td>   0.916</td> \n",
       "</tr>\n",
       "<tr>\n",
       "  <th>Method:</th>             <td>Least Squares</td>  <th>  F-statistic:       </th> <td>   1005.</td> \n",
       "</tr>\n",
       "<tr>\n",
       "  <th>Date:</th>             <td>Thu, 15 Jul 2021</td> <th>  Prob (F-statistic):</th>  <td>  0.00</td>  \n",
       "</tr>\n",
       "<tr>\n",
       "  <th>Time:</th>                 <td>23:44:40</td>     <th>  Log-Likelihood:    </th> <td> -60455.</td> \n",
       "</tr>\n",
       "<tr>\n",
       "  <th>No. Observations:</th>      <td>  4504</td>      <th>  AIC:               </th> <td>1.210e+05</td>\n",
       "</tr>\n",
       "<tr>\n",
       "  <th>Df Residuals:</th>          <td>  4454</td>      <th>  BIC:               </th> <td>1.213e+05</td>\n",
       "</tr>\n",
       "<tr>\n",
       "  <th>Df Model:</th>              <td>    49</td>      <th>                     </th>     <td> </td>    \n",
       "</tr>\n",
       "<tr>\n",
       "  <th>Covariance Type:</th>      <td>nonrobust</td>    <th>                     </th>     <td> </td>    \n",
       "</tr>\n",
       "</table>\n",
       "<table class=\"simpletable\">\n",
       "<tr>\n",
       "   <td></td>      <th>coef</th>     <th>std err</th>      <th>t</th>      <th>P>|t|</th>  <th>[0.025</th>    <th>0.975]</th>  \n",
       "</tr>\n",
       "<tr>\n",
       "  <th>x1</th>  <td> 7.887e+04</td> <td> 9644.876</td> <td>    8.177</td> <td> 0.000</td> <td>    6e+04</td> <td> 9.78e+04</td>\n",
       "</tr>\n",
       "<tr>\n",
       "  <th>x2</th>  <td> -918.9311</td> <td>  161.205</td> <td>   -5.700</td> <td> 0.000</td> <td>-1234.972</td> <td> -602.890</td>\n",
       "</tr>\n",
       "<tr>\n",
       "  <th>x3</th>  <td>-4.024e+04</td> <td> 8814.746</td> <td>   -4.565</td> <td> 0.000</td> <td>-5.75e+04</td> <td> -2.3e+04</td>\n",
       "</tr>\n",
       "<tr>\n",
       "  <th>x4</th>  <td> 3111.8829</td> <td> 1271.755</td> <td>    2.447</td> <td> 0.014</td> <td>  618.611</td> <td> 5605.155</td>\n",
       "</tr>\n",
       "<tr>\n",
       "  <th>x5</th>  <td>-2.001e+04</td> <td> 5288.646</td> <td>   -3.784</td> <td> 0.000</td> <td>-3.04e+04</td> <td>-9646.006</td>\n",
       "</tr>\n",
       "<tr>\n",
       "  <th>x6</th>  <td> 1.222e+06</td> <td>  2.8e+05</td> <td>    4.362</td> <td> 0.000</td> <td> 6.73e+05</td> <td> 1.77e+06</td>\n",
       "</tr>\n",
       "<tr>\n",
       "  <th>x7</th>  <td> 1.603e+06</td> <td>  2.8e+05</td> <td>    5.732</td> <td> 0.000</td> <td> 1.05e+06</td> <td> 2.15e+06</td>\n",
       "</tr>\n",
       "<tr>\n",
       "  <th>x8</th>  <td> 5.556e+04</td> <td> 2.83e+05</td> <td>    0.196</td> <td> 0.844</td> <td>-4.99e+05</td> <td>  6.1e+05</td>\n",
       "</tr>\n",
       "<tr>\n",
       "  <th>x9</th>  <td> 1.994e+06</td> <td> 1.67e+05</td> <td>   11.949</td> <td> 0.000</td> <td> 1.67e+06</td> <td> 2.32e+06</td>\n",
       "</tr>\n",
       "<tr>\n",
       "  <th>x10</th> <td>-4.237e+04</td> <td> 2.77e+05</td> <td>   -0.153</td> <td> 0.878</td> <td>-5.85e+05</td> <td>    5e+05</td>\n",
       "</tr>\n",
       "<tr>\n",
       "  <th>x11</th> <td> 1.208e+06</td> <td> 2.79e+05</td> <td>    4.329</td> <td> 0.000</td> <td> 6.61e+05</td> <td> 1.76e+06</td>\n",
       "</tr>\n",
       "<tr>\n",
       "  <th>x12</th> <td> 3.071e+05</td> <td> 2.55e+05</td> <td>    1.204</td> <td> 0.229</td> <td>-1.93e+05</td> <td> 8.07e+05</td>\n",
       "</tr>\n",
       "<tr>\n",
       "  <th>x13</th> <td> 5.289e+05</td> <td>  2.8e+05</td> <td>    1.891</td> <td> 0.059</td> <td>-1.94e+04</td> <td> 1.08e+06</td>\n",
       "</tr>\n",
       "<tr>\n",
       "  <th>x14</th> <td> 1.672e+05</td> <td>  2.8e+05</td> <td>    0.596</td> <td> 0.551</td> <td>-3.83e+05</td> <td> 7.17e+05</td>\n",
       "</tr>\n",
       "<tr>\n",
       "  <th>x15</th> <td>  1.89e+06</td> <td> 1.74e+05</td> <td>   10.849</td> <td> 0.000</td> <td> 1.55e+06</td> <td> 2.23e+06</td>\n",
       "</tr>\n",
       "<tr>\n",
       "  <th>x16</th> <td> 1.007e+06</td> <td> 2.83e+05</td> <td>    3.559</td> <td> 0.000</td> <td> 4.52e+05</td> <td> 1.56e+06</td>\n",
       "</tr>\n",
       "<tr>\n",
       "  <th>x17</th> <td> 1.071e+06</td> <td> 1.92e+05</td> <td>    5.567</td> <td> 0.000</td> <td> 6.94e+05</td> <td> 1.45e+06</td>\n",
       "</tr>\n",
       "<tr>\n",
       "  <th>x18</th> <td>  1.94e+06</td> <td>  1.7e+05</td> <td>   11.406</td> <td> 0.000</td> <td> 1.61e+06</td> <td> 2.27e+06</td>\n",
       "</tr>\n",
       "<tr>\n",
       "  <th>x19</th> <td> 1.795e+06</td> <td> 2.46e+05</td> <td>    7.306</td> <td> 0.000</td> <td> 1.31e+06</td> <td> 2.28e+06</td>\n",
       "</tr>\n",
       "<tr>\n",
       "  <th>x20</th> <td> 5.498e+05</td> <td>  1.8e+05</td> <td>    3.050</td> <td> 0.002</td> <td> 1.96e+05</td> <td> 9.03e+05</td>\n",
       "</tr>\n",
       "<tr>\n",
       "  <th>x21</th> <td> 2.068e+05</td> <td> 2.49e+05</td> <td>    0.832</td> <td> 0.406</td> <td>-2.81e+05</td> <td> 6.94e+05</td>\n",
       "</tr>\n",
       "<tr>\n",
       "  <th>x22</th> <td> 7.959e+05</td> <td> 1.68e+05</td> <td>    4.724</td> <td> 0.000</td> <td> 4.66e+05</td> <td> 1.13e+06</td>\n",
       "</tr>\n",
       "<tr>\n",
       "  <th>x23</th> <td> 1.021e+06</td> <td> 1.84e+05</td> <td>    5.558</td> <td> 0.000</td> <td> 6.61e+05</td> <td> 1.38e+06</td>\n",
       "</tr>\n",
       "<tr>\n",
       "  <th>x24</th> <td> 1.375e+06</td> <td>  1.8e+05</td> <td>    7.632</td> <td> 0.000</td> <td> 1.02e+06</td> <td> 1.73e+06</td>\n",
       "</tr>\n",
       "<tr>\n",
       "  <th>x25</th> <td> 1.773e+06</td> <td>  2.7e+05</td> <td>    6.573</td> <td> 0.000</td> <td> 1.24e+06</td> <td>  2.3e+06</td>\n",
       "</tr>\n",
       "<tr>\n",
       "  <th>x26</th> <td> 4.237e+05</td> <td>  2.8e+05</td> <td>    1.515</td> <td> 0.130</td> <td>-1.25e+05</td> <td> 9.72e+05</td>\n",
       "</tr>\n",
       "<tr>\n",
       "  <th>x27</th> <td> 9.477e+05</td> <td> 1.86e+05</td> <td>    5.102</td> <td> 0.000</td> <td> 5.84e+05</td> <td> 1.31e+06</td>\n",
       "</tr>\n",
       "<tr>\n",
       "  <th>x28</th> <td> 1.241e+06</td> <td>  1.7e+05</td> <td>    7.305</td> <td> 0.000</td> <td> 9.08e+05</td> <td> 1.57e+06</td>\n",
       "</tr>\n",
       "<tr>\n",
       "  <th>x29</th> <td> 1.286e+06</td> <td> 1.82e+05</td> <td>    7.069</td> <td> 0.000</td> <td>  9.3e+05</td> <td> 1.64e+06</td>\n",
       "</tr>\n",
       "<tr>\n",
       "  <th>x30</th> <td> 3.931e+05</td> <td> 2.69e+05</td> <td>    1.459</td> <td> 0.145</td> <td>-1.35e+05</td> <td> 9.21e+05</td>\n",
       "</tr>\n",
       "<tr>\n",
       "  <th>x31</th> <td> 9.176e+05</td> <td>  1.8e+05</td> <td>    5.092</td> <td> 0.000</td> <td> 5.64e+05</td> <td> 1.27e+06</td>\n",
       "</tr>\n",
       "<tr>\n",
       "  <th>x32</th> <td> 1.688e+06</td> <td> 1.85e+05</td> <td>    9.120</td> <td> 0.000</td> <td> 1.33e+06</td> <td> 2.05e+06</td>\n",
       "</tr>\n",
       "<tr>\n",
       "  <th>x33</th> <td> 1.374e+06</td> <td> 1.92e+05</td> <td>    7.161</td> <td> 0.000</td> <td> 9.98e+05</td> <td> 1.75e+06</td>\n",
       "</tr>\n",
       "<tr>\n",
       "  <th>x34</th> <td> 5.031e+05</td> <td> 1.87e+05</td> <td>    2.686</td> <td> 0.007</td> <td> 1.36e+05</td> <td>  8.7e+05</td>\n",
       "</tr>\n",
       "<tr>\n",
       "  <th>x35</th> <td> 1.049e+05</td> <td>  2.8e+05</td> <td>    0.375</td> <td> 0.708</td> <td>-4.44e+05</td> <td> 6.54e+05</td>\n",
       "</tr>\n",
       "<tr>\n",
       "  <th>x36</th> <td> 1.071e+06</td> <td>  2.8e+05</td> <td>    3.833</td> <td> 0.000</td> <td> 5.23e+05</td> <td> 1.62e+06</td>\n",
       "</tr>\n",
       "<tr>\n",
       "  <th>x37</th> <td> 9.033e+05</td> <td> 2.55e+05</td> <td>    3.539</td> <td> 0.000</td> <td> 4.03e+05</td> <td>  1.4e+06</td>\n",
       "</tr>\n",
       "<tr>\n",
       "  <th>x38</th> <td> 2.344e+05</td> <td> 1.74e+05</td> <td>    1.343</td> <td> 0.179</td> <td>-1.08e+05</td> <td> 5.76e+05</td>\n",
       "</tr>\n",
       "<tr>\n",
       "  <th>x39</th> <td> 9.384e+05</td> <td> 1.81e+05</td> <td>    5.187</td> <td> 0.000</td> <td> 5.84e+05</td> <td> 1.29e+06</td>\n",
       "</tr>\n",
       "<tr>\n",
       "  <th>x40</th> <td> 8.319e+05</td> <td> 1.88e+05</td> <td>    4.414</td> <td> 0.000</td> <td> 4.62e+05</td> <td>  1.2e+06</td>\n",
       "</tr>\n",
       "<tr>\n",
       "  <th>x41</th> <td> 5.368e+04</td> <td> 2.79e+05</td> <td>    0.192</td> <td> 0.848</td> <td>-4.94e+05</td> <td> 6.01e+05</td>\n",
       "</tr>\n",
       "<tr>\n",
       "  <th>x42</th> <td> 1.954e+05</td> <td> 2.79e+05</td> <td>    0.700</td> <td> 0.484</td> <td>-3.52e+05</td> <td> 7.43e+05</td>\n",
       "</tr>\n",
       "<tr>\n",
       "  <th>x43</th> <td> 4.497e+05</td> <td> 1.92e+05</td> <td>    2.338</td> <td> 0.019</td> <td> 7.26e+04</td> <td> 8.27e+05</td>\n",
       "</tr>\n",
       "<tr>\n",
       "  <th>x44</th> <td> 1.107e+06</td> <td> 2.79e+05</td> <td>    3.965</td> <td> 0.000</td> <td>  5.6e+05</td> <td> 1.65e+06</td>\n",
       "</tr>\n",
       "<tr>\n",
       "  <th>x45</th> <td>  8.16e+05</td> <td>  1.7e+05</td> <td>    4.804</td> <td> 0.000</td> <td> 4.83e+05</td> <td> 1.15e+06</td>\n",
       "</tr>\n",
       "<tr>\n",
       "  <th>x46</th> <td> 9.618e+05</td> <td>  2.5e+05</td> <td>    3.847</td> <td> 0.000</td> <td> 4.72e+05</td> <td> 1.45e+06</td>\n",
       "</tr>\n",
       "<tr>\n",
       "  <th>x47</th> <td> 5.296e+05</td> <td> 1.74e+05</td> <td>    3.040</td> <td> 0.002</td> <td> 1.88e+05</td> <td> 8.71e+05</td>\n",
       "</tr>\n",
       "<tr>\n",
       "  <th>x48</th> <td> 3.749e+05</td> <td> 2.77e+05</td> <td>    1.352</td> <td> 0.176</td> <td>-1.69e+05</td> <td> 9.19e+05</td>\n",
       "</tr>\n",
       "<tr>\n",
       "  <th>x49</th> <td> 2.113e+05</td> <td> 1.69e+05</td> <td>    1.249</td> <td> 0.212</td> <td> -1.2e+05</td> <td> 5.43e+05</td>\n",
       "</tr>\n",
       "<tr>\n",
       "  <th>x50</th> <td> 5.695e+05</td> <td> 2.46e+05</td> <td>    2.318</td> <td> 0.020</td> <td> 8.78e+04</td> <td> 1.05e+06</td>\n",
       "</tr>\n",
       "</table>\n",
       "<table class=\"simpletable\">\n",
       "<tr>\n",
       "  <th>Omnibus:</th>       <td>3591.062</td> <th>  Durbin-Watson:     </th>  <td>   2.059</td> \n",
       "</tr>\n",
       "<tr>\n",
       "  <th>Prob(Omnibus):</th>  <td> 0.000</td>  <th>  Jarque-Bera (JB):  </th> <td>134155.071</td>\n",
       "</tr>\n",
       "<tr>\n",
       "  <th>Skew:</th>           <td> 3.519</td>  <th>  Prob(JB):          </th>  <td>    0.00</td> \n",
       "</tr>\n",
       "<tr>\n",
       "  <th>Kurtosis:</th>       <td>28.794</td>  <th>  Cond. No.          </th>  <td>1.17e+05</td> \n",
       "</tr>\n",
       "</table><br/><br/>Notes:<br/>[1] Standard Errors assume that the covariance matrix of the errors is correctly specified.<br/>[2] The condition number is large, 1.17e+05. This might indicate that there are<br/>strong multicollinearity or other numerical problems."
      ],
      "text/plain": [
       "<class 'statsmodels.iolib.summary.Summary'>\n",
       "\"\"\"\n",
       "                            OLS Regression Results                            \n",
       "==============================================================================\n",
       "Dep. Variable:                      y   R-squared:                       0.917\n",
       "Model:                            OLS   Adj. R-squared:                  0.916\n",
       "Method:                 Least Squares   F-statistic:                     1005.\n",
       "Date:                Thu, 15 Jul 2021   Prob (F-statistic):               0.00\n",
       "Time:                        23:44:40   Log-Likelihood:                -60455.\n",
       "No. Observations:                4504   AIC:                         1.210e+05\n",
       "Df Residuals:                    4454   BIC:                         1.213e+05\n",
       "Df Model:                          49                                         \n",
       "Covariance Type:            nonrobust                                         \n",
       "==============================================================================\n",
       "                 coef    std err          t      P>|t|      [0.025      0.975]\n",
       "------------------------------------------------------------------------------\n",
       "x1          7.887e+04   9644.876      8.177      0.000       6e+04    9.78e+04\n",
       "x2          -918.9311    161.205     -5.700      0.000   -1234.972    -602.890\n",
       "x3         -4.024e+04   8814.746     -4.565      0.000   -5.75e+04    -2.3e+04\n",
       "x4          3111.8829   1271.755      2.447      0.014     618.611    5605.155\n",
       "x5         -2.001e+04   5288.646     -3.784      0.000   -3.04e+04   -9646.006\n",
       "x6          1.222e+06    2.8e+05      4.362      0.000    6.73e+05    1.77e+06\n",
       "x7          1.603e+06    2.8e+05      5.732      0.000    1.05e+06    2.15e+06\n",
       "x8          5.556e+04   2.83e+05      0.196      0.844   -4.99e+05     6.1e+05\n",
       "x9          1.994e+06   1.67e+05     11.949      0.000    1.67e+06    2.32e+06\n",
       "x10        -4.237e+04   2.77e+05     -0.153      0.878   -5.85e+05       5e+05\n",
       "x11         1.208e+06   2.79e+05      4.329      0.000    6.61e+05    1.76e+06\n",
       "x12         3.071e+05   2.55e+05      1.204      0.229   -1.93e+05    8.07e+05\n",
       "x13         5.289e+05    2.8e+05      1.891      0.059   -1.94e+04    1.08e+06\n",
       "x14         1.672e+05    2.8e+05      0.596      0.551   -3.83e+05    7.17e+05\n",
       "x15          1.89e+06   1.74e+05     10.849      0.000    1.55e+06    2.23e+06\n",
       "x16         1.007e+06   2.83e+05      3.559      0.000    4.52e+05    1.56e+06\n",
       "x17         1.071e+06   1.92e+05      5.567      0.000    6.94e+05    1.45e+06\n",
       "x18          1.94e+06    1.7e+05     11.406      0.000    1.61e+06    2.27e+06\n",
       "x19         1.795e+06   2.46e+05      7.306      0.000    1.31e+06    2.28e+06\n",
       "x20         5.498e+05    1.8e+05      3.050      0.002    1.96e+05    9.03e+05\n",
       "x21         2.068e+05   2.49e+05      0.832      0.406   -2.81e+05    6.94e+05\n",
       "x22         7.959e+05   1.68e+05      4.724      0.000    4.66e+05    1.13e+06\n",
       "x23         1.021e+06   1.84e+05      5.558      0.000    6.61e+05    1.38e+06\n",
       "x24         1.375e+06    1.8e+05      7.632      0.000    1.02e+06    1.73e+06\n",
       "x25         1.773e+06    2.7e+05      6.573      0.000    1.24e+06     2.3e+06\n",
       "x26         4.237e+05    2.8e+05      1.515      0.130   -1.25e+05    9.72e+05\n",
       "x27         9.477e+05   1.86e+05      5.102      0.000    5.84e+05    1.31e+06\n",
       "x28         1.241e+06    1.7e+05      7.305      0.000    9.08e+05    1.57e+06\n",
       "x29         1.286e+06   1.82e+05      7.069      0.000     9.3e+05    1.64e+06\n",
       "x30         3.931e+05   2.69e+05      1.459      0.145   -1.35e+05    9.21e+05\n",
       "x31         9.176e+05    1.8e+05      5.092      0.000    5.64e+05    1.27e+06\n",
       "x32         1.688e+06   1.85e+05      9.120      0.000    1.33e+06    2.05e+06\n",
       "x33         1.374e+06   1.92e+05      7.161      0.000    9.98e+05    1.75e+06\n",
       "x34         5.031e+05   1.87e+05      2.686      0.007    1.36e+05     8.7e+05\n",
       "x35         1.049e+05    2.8e+05      0.375      0.708   -4.44e+05    6.54e+05\n",
       "x36         1.071e+06    2.8e+05      3.833      0.000    5.23e+05    1.62e+06\n",
       "x37         9.033e+05   2.55e+05      3.539      0.000    4.03e+05     1.4e+06\n",
       "x38         2.344e+05   1.74e+05      1.343      0.179   -1.08e+05    5.76e+05\n",
       "x39         9.384e+05   1.81e+05      5.187      0.000    5.84e+05    1.29e+06\n",
       "x40         8.319e+05   1.88e+05      4.414      0.000    4.62e+05     1.2e+06\n",
       "x41         5.368e+04   2.79e+05      0.192      0.848   -4.94e+05    6.01e+05\n",
       "x42         1.954e+05   2.79e+05      0.700      0.484   -3.52e+05    7.43e+05\n",
       "x43         4.497e+05   1.92e+05      2.338      0.019    7.26e+04    8.27e+05\n",
       "x44         1.107e+06   2.79e+05      3.965      0.000     5.6e+05    1.65e+06\n",
       "x45          8.16e+05    1.7e+05      4.804      0.000    4.83e+05    1.15e+06\n",
       "x46         9.618e+05    2.5e+05      3.847      0.000    4.72e+05    1.45e+06\n",
       "x47         5.296e+05   1.74e+05      3.040      0.002    1.88e+05    8.71e+05\n",
       "x48         3.749e+05   2.77e+05      1.352      0.176   -1.69e+05    9.19e+05\n",
       "x49         2.113e+05   1.69e+05      1.249      0.212    -1.2e+05    5.43e+05\n",
       "x50         5.695e+05   2.46e+05      2.318      0.020    8.78e+04    1.05e+06\n",
       "==============================================================================\n",
       "Omnibus:                     3591.062   Durbin-Watson:                   2.059\n",
       "Prob(Omnibus):                  0.000   Jarque-Bera (JB):           134155.071\n",
       "Skew:                           3.519   Prob(JB):                         0.00\n",
       "Kurtosis:                      28.794   Cond. No.                     1.17e+05\n",
       "==============================================================================\n",
       "\n",
       "Notes:\n",
       "[1] Standard Errors assume that the covariance matrix of the errors is correctly specified.\n",
       "[2] The condition number is large, 1.17e+05. This might indicate that there are\n",
       "strong multicollinearity or other numerical problems.\n",
       "\"\"\""
      ]
     },
     "execution_count": 108,
     "metadata": {},
     "output_type": "execute_result"
    }
   ],
   "source": [
    "OLS(np.asarray(train_y),np.asarray(train_x)).fit().summary()"
   ]
  },
  {
   "cell_type": "markdown",
   "metadata": {},
   "source": [
    "## Conclusion and Practical Interpretation"
   ]
  },
  {
   "cell_type": "markdown",
   "metadata": {},
   "source": [
    "The P Value is less 0.05 for all Independent Variables <br>\n",
    "There is significant relationship between the Target Variable and Indvidual Components listed below <br>\n",
    "CPI - The Consumer Price Index (CPI) is a measure that examines the average of prices of a basket of consumer goods and services, such as transportation, food, and medical care. It is calculated by taking price changes for each item in the predetermined basket of goods and averaging them. Changes in the CPI are used to assess price changes associated with the cost of living. <br>\n",
    "     &emsp;&emsp;&emsp;&emsp;&emsp;&emsp; CPI= (Cost of market basket in current period/Cost of market basket in current period) x 100                 "
   ]
  },
  {
   "cell_type": "markdown",
   "metadata": {},
   "source": [
    "Temperature - The temperature in the city plays a key role on people coming out to purchase <br>"
   ]
  },
  {
   "cell_type": "markdown",
   "metadata": {},
   "source": [
    "Holiday Flag - This is important indicator of telling whether the week had a important Holiday <br>"
   ]
  },
  {
   "cell_type": "markdown",
   "metadata": {},
   "source": [
    "Fuel Price - Fuel Prices always plays a vital role in purchasing . If there is substantial increase in fuel price there will be a increase in essential goods sold. There could be singificsnt impact on fuel price on Sales "
   ]
  },
  {
   "cell_type": "markdown",
   "metadata": {},
   "source": [
    "Unemployement - Percentage of people Unempoyed in the work force"
   ]
  },
  {
   "cell_type": "code",
   "execution_count": null,
   "metadata": {},
   "outputs": [],
   "source": []
  }
 ],
 "metadata": {
  "kernelspec": {
   "display_name": "Python 3",
   "language": "python",
   "name": "python3"
  },
  "language_info": {
   "codemirror_mode": {
    "name": "ipython",
    "version": 3
   },
   "file_extension": ".py",
   "mimetype": "text/x-python",
   "name": "python",
   "nbconvert_exporter": "python",
   "pygments_lexer": "ipython3",
   "version": "3.8.5"
  }
 },
 "nbformat": 4,
 "nbformat_minor": 4
}
