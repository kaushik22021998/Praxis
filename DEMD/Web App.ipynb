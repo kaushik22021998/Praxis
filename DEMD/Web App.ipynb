{
 "cells": [
  {
   "cell_type": "code",
   "execution_count": 1,
   "id": "9c0f681c",
   "metadata": {},
   "outputs": [
    {
     "name": "stderr",
     "output_type": "stream",
     "text": [
      "2021-10-18 12:47:21.034 \n",
      "  \u001b[33m\u001b[1mWarning:\u001b[0m to view this Streamlit app on a browser, run it with the following\n",
      "  command:\n",
      "\n",
      "    streamlit run C:\\Users\\krish\\anaconda3\\lib\\site-packages\\ipykernel_launcher.py [ARGUMENTS]\n"
     ]
    }
   ],
   "source": [
    "# Imports\n",
    "# -----------------------------------------------------------\n",
    "import streamlit as st\n",
    "import pandas as pd\n",
    "# -----------------------------------------------------------\n",
    "\n",
    "# Helper functions\n",
    "# -----------------------------------------------------------\n",
    "# Load data from external source\n",
    "df = pd.read_csv(\n",
    "    \"C:/Users/krish/Desktop/Praxis PGPDS Data/BDSN/TrainInsurance.csv\"\n",
    ")\n",
    "# -----------------------------------------------------------\n",
    "\n",
    "# Sidebar\n",
    "# -----------------------------------------------------------\n",
    "\n",
    "# -----------------------------------------------------------\n",
    "\n",
    "\n",
    "# Main\n",
    "# -----------------------------------------------------------\n",
    "# Create a title for your app\n",
    "st.title(\"Interactive K-Means Clustering\")\n",
    "\n",
    "# A description\n",
    "st.write(\"Here is the dataset used in this analysis:\")\n",
    "\n",
    "# Display the dataframe\n",
    "st.write(df)\n",
    "# -----------------------------------------------------------"
   ]
  },
  {
   "cell_type": "code",
   "execution_count": null,
   "id": "1b5c2e67",
   "metadata": {},
   "outputs": [],
   "source": []
  }
 ],
 "metadata": {
  "kernelspec": {
   "display_name": "Python 3",
   "language": "python",
   "name": "python3"
  },
  "language_info": {
   "codemirror_mode": {
    "name": "ipython",
    "version": 3
   },
   "file_extension": ".py",
   "mimetype": "text/x-python",
   "name": "python",
   "nbconvert_exporter": "python",
   "pygments_lexer": "ipython3",
   "version": "3.8.8"
  }
 },
 "nbformat": 4,
 "nbformat_minor": 5
}
